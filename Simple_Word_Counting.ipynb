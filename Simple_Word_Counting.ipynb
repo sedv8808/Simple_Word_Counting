{
 "cells": [
  {
   "cell_type": "markdown",
   "metadata": {},
   "source": [
    "# Simple word-counting and TF-IDF semantics"
   ]
  },
  {
   "cell_type": "code",
   "execution_count": 24,
   "metadata": {},
   "outputs": [],
   "source": [
    "# Load sys to read files\n",
    "import sys\n",
    "import os\n",
    "\n",
    "import pandas as pd\n",
    "import numpy as np\n",
    "import matplotlib.pyplot as plt\n",
    "import string\n",
    "import re\n",
    "\n",
    "import nltk\n",
    "from nltk.corpus import reuters\n",
    "from nltk.tokenize import RegexpTokenizer\n",
    "from nltk.corpus import stopwords\n",
    "from nltk.tokenize import sent_tokenize, word_tokenize\n",
    "from nltk.stem import PorterStemmer\n",
    "from nltk.stem import WordNetLemmatizer\n",
    "from nltk.corpus import wordnet\n",
    "# nltk.download('reuters')"
   ]
  },
  {
   "cell_type": "code",
   "execution_count": 31,
   "metadata": {},
   "outputs": [],
   "source": [
    "# List downloaded files\n",
    "\n",
    "# os.listdir('Data/reuters21578/')"
   ]
  },
  {
   "cell_type": "markdown",
   "metadata": {},
   "source": [
    "After reading the README text, I know that the collection I am interested in is in the 22 sgm files. \n",
    "To access these files, I will use `open as infile`. \n",
    "\n",
    "There are 6 files describing the categories used to index the data as well."
   ]
  },
  {
   "cell_type": "markdown",
   "metadata": {},
   "source": [
    "Opening just one file as an example:"
   ]
  },
  {
   "cell_type": "code",
   "execution_count": 4,
   "metadata": {},
   "outputs": [],
   "source": [
    "# Open a first file as an example. Used 'r' because it is text mode parsing (read only).\n",
    "with open('../Data/reuters21578/reut2-008.sgm', 'r', encoding = 'utf-8', errors = 'ignore') as infile:\n",
    "        data = infile.read()\n",
    "\n",
    "# To print as a sanity check, uncomment.\n",
    "#print(data)"
   ]
  },
  {
   "cell_type": "markdown",
   "metadata": {},
   "source": [
    "Despite the difficult format presentation, the corpus is there. \n",
    "\n",
    "I will open all the files in the directory and assemble them in an array called data."
   ]
  },
  {
   "cell_type": "code",
   "execution_count": 8,
   "metadata": {},
   "outputs": [
    {
     "data": {
      "text/plain": [
       "'<!DOCTYPE lewis SYSTEM \"lewis.dtd\">\\n<REUTERS TOPICS=\"YES\" LEWISSPLIT=\"TRAIN\" CGISPLIT=\"TRAINING-SET\" OLDID=\"5544\" NEWID=\"1\">\\n<DATE>26-FEB-1987 15:01:01.79</DATE>\\n<TOPICS><D>cocoa</D></TOPICS>\\n<PLACES><D>el-salvador</D><D>usa</D><D>uruguay</D></PLACES>\\n<PEOPLE></PEOPLE>\\n<ORGS></ORGS>\\n<EXCHANGES></EXCHANGES>\\n<COMPANIES></COMPANIES>\\n<UNKNOWN> \\n&#5;&#5;&#5;C T\\n&#22;&#22;&#1;f0704&#31;reute\\nu f BC-BAHIA-COCOA-REVIEW   02-26 0105</UNKNOWN>\\n<TEXT>&#2;\\n<TITLE>BAHIA COCOA REVIEW</TITLE>\\n<DATELINE>    SALVADOR, Feb 26 - </DATELINE><BODY>Showers continued throughout the week in\\nthe Bahia cocoa zone, alle'"
      ]
     },
     "execution_count": 8,
     "metadata": {},
     "output_type": "execute_result"
    }
   ],
   "source": [
    "data = []\n",
    "\n",
    "for i in range(22):\n",
    "    # Open all filenames. Pad {0} to 3 digits with str methods. \n",
    "    # Use range from 0 to 22.\n",
    "    filename = '../Data/reuters21578/reut2-{0}.sgm'.format(str(i).zfill(3))\n",
    "    \n",
    "    # Encoding with most common scheme.\n",
    "    with open(filename, 'r', encoding = 'utf-8', errors = 'ignore') as infile:\n",
    "        data.append(infile.read())\n",
    "        \n",
    "# Print first 100 characters of the first article\n",
    "data[0][:600]"
   ]
  },
  {
   "cell_type": "markdown",
   "metadata": {},
   "source": [
    "All corpora have been set up in an array of arrays. We can see that the text format seems to have a HTML presentation. In order to give some format, I will use BeautifulSoup package."
   ]
  },
  {
   "cell_type": "markdown",
   "metadata": {},
   "source": [
    "As a sanity check, I will see what the NLTK package has for 'Reuters' database. "
   ]
  },
  {
   "cell_type": "code",
   "execution_count": 44,
   "metadata": {},
   "outputs": [],
   "source": [
    "# nltk.corpus.reuters.raw()"
   ]
  },
  {
   "cell_type": "markdown",
   "metadata": {},
   "source": [
    "Looks like it is the same database, however the articles are in different order."
   ]
  },
  {
   "cell_type": "markdown",
   "metadata": {},
   "source": [
    "Now, I will use BeautifulSoup to parse the text. BeautifulSoup will allow to remove all the HTML tags. There are several ways to do this. I could run a loop and attach an article between the tags of <Body> to a dataframe. (Might do that later - for simplicity now, I will just put it in an array."
   ]
  },
  {
   "cell_type": "code",
   "execution_count": 9,
   "metadata": {},
   "outputs": [],
   "source": [
    "from bs4 import BeautifulSoup\n",
    "example_soup = BeautifulSoup(data[0], 'html.parser')\n",
    "\n",
    "# print(example_soup.prettify()) # Makes the above easier to read. More as we would see on a describe HTML panel (when scrapping).\n",
    "# print(example_soup.get_text())  # Removes HTML flags.\n",
    "# print(example_soup.find_all('body')) # Extracts the text from the HTML tag we choose. This case, the 'Body' tag."
   ]
  },
  {
   "cell_type": "code",
   "execution_count": 10,
   "metadata": {},
   "outputs": [
    {
     "data": {
      "text/plain": [
       "bs4.BeautifulSoup"
      ]
     },
     "execution_count": 10,
     "metadata": {},
     "output_type": "execute_result"
    }
   ],
   "source": [
    "type(example_soup)"
   ]
  },
  {
   "cell_type": "markdown",
   "metadata": {},
   "source": [
    "Let's now put all the corpus in the soup. The soup object can just take one index at a time. We need to iterate over our data list."
   ]
  },
  {
   "cell_type": "code",
   "execution_count": 11,
   "metadata": {},
   "outputs": [],
   "source": [
    "corpora = []\n",
    "for text in data:\n",
    "    # Parse text as html using beautiful soup\n",
    "    parsed_text = BeautifulSoup(text, 'html.parser')\n",
    "    table = parsed_text.find_all('body')[0] \n",
    "#print(table)\n",
    "\n",
    "#type(table)"
   ]
  },
  {
   "cell_type": "code",
   "execution_count": 12,
   "metadata": {},
   "outputs": [
    {
     "name": "stdout",
     "output_type": "stream",
     "text": [
      "Showers continued throughout the week in\n",
      "the Bahia cocoa zone, alleviating the drought since early\n",
      "January and improving prospects for the coming temporao,\n",
      "although normal humidity levels have not been restored,\n",
      "Comissaria Smith said in its weekly review.\n",
      "    The dry period means the temporao will b\n"
     ]
    }
   ],
   "source": [
    "corpora = []\n",
    "for text in data:\n",
    "    # Parse text as html using beautiful soup\n",
    "    parsed_text = BeautifulSoup(text, 'html.parser')\n",
    "    \n",
    "    # Extract article between <BODY> and </BODY> and convert to standard text. Add to list of articles\n",
    "    corpora += [corpora.get_text() for corpora in parsed_text.find_all('body')]\n",
    "\n",
    "# Print first article as an example\n",
    "print(corpora[0][:300])"
   ]
  },
  {
   "cell_type": "code",
   "execution_count": 13,
   "metadata": {},
   "outputs": [
    {
     "data": {
      "text/html": [
       "<div>\n",
       "<style scoped>\n",
       "    .dataframe tbody tr th:only-of-type {\n",
       "        vertical-align: middle;\n",
       "    }\n",
       "\n",
       "    .dataframe tbody tr th {\n",
       "        vertical-align: top;\n",
       "    }\n",
       "\n",
       "    .dataframe thead th {\n",
       "        text-align: right;\n",
       "    }\n",
       "</style>\n",
       "<table border=\"1\" class=\"dataframe\">\n",
       "  <thead>\n",
       "    <tr style=\"text-align: right;\">\n",
       "      <th></th>\n",
       "      <th>Body</th>\n",
       "    </tr>\n",
       "  </thead>\n",
       "  <tbody>\n",
       "    <tr>\n",
       "      <td>0</td>\n",
       "      <td>Showers continued throughout the week in\\nthe ...</td>\n",
       "    </tr>\n",
       "    <tr>\n",
       "      <td>1</td>\n",
       "      <td>Standard Oil Co and BP North America\\nInc said...</td>\n",
       "    </tr>\n",
       "  </tbody>\n",
       "</table>\n",
       "</div>"
      ],
      "text/plain": [
       "                                                Body\n",
       "0  Showers continued throughout the week in\\nthe ...\n",
       "1  Standard Oil Co and BP North America\\nInc said..."
      ]
     },
     "execution_count": 13,
     "metadata": {},
     "output_type": "execute_result"
    }
   ],
   "source": [
    "# Make Corpora be a DF\n",
    "\n",
    "df_corpora = pd.DataFrame({'Body': corpora})\n",
    "df_corpora.head(2)"
   ]
  },
  {
   "cell_type": "markdown",
   "metadata": {},
   "source": [
    "## Exploring the Data\n",
    "\n",
    "Although I have removed some HTML tags, before normalizingthe data, I would still want to remove symbols such as \\n or the word Reuter that appears at the end of all articles. This word is not necessary for my analysis. \n",
    "\n",
    "Afterwards, I will do a more formal \"Normalizing\" of the data."
   ]
  },
  {
   "cell_type": "code",
   "execution_count": 17,
   "metadata": {},
   "outputs": [],
   "source": [
    "# Option to see the whole column\n",
    "pd.set_option('display.max_colwidth', -1)\n",
    "\n",
    "# Removing symbols such as \\n, Reuter, and '' that are just showing break lines.\n",
    "df_corpora = df_corpora.replace('\"', '', regex = True)\\\n",
    "                       .replace(\"\\n\", ' ', regex = True)\\\n",
    "                       .replace(' Reuter', '', regex = True)"
   ]
  },
  {
   "cell_type": "code",
   "execution_count": 18,
   "metadata": {},
   "outputs": [
    {
     "data": {
      "text/html": [
       "<div>\n",
       "<style scoped>\n",
       "    .dataframe tbody tr th:only-of-type {\n",
       "        vertical-align: middle;\n",
       "    }\n",
       "\n",
       "    .dataframe tbody tr th {\n",
       "        vertical-align: top;\n",
       "    }\n",
       "\n",
       "    .dataframe thead th {\n",
       "        text-align: right;\n",
       "    }\n",
       "</style>\n",
       "<table border=\"1\" class=\"dataframe\">\n",
       "  <thead>\n",
       "    <tr style=\"text-align: right;\">\n",
       "      <th></th>\n",
       "      <th>Body</th>\n",
       "    </tr>\n",
       "  </thead>\n",
       "  <tbody>\n",
       "    <tr>\n",
       "      <td>0</td>\n",
       "      <td>Showers continued throughout the week in the Bahia cocoa zone, alleviating the drought since early January and improving prospects for the coming temporao, although normal humidity levels have not been restored, Comissaria Smith said in its weekly review.     The dry period means the temporao will be late this year.     Arrivals for the week ended February 22 were 155,221 bags of 60 kilos making a cumulative total for the season of 5.93 mln against 5.81 at the same stage last year. Again it seems that cocoa delivered earlier on consignment was included in the arrivals figures.     Comissaria Smith said there is still some doubt as to how much old crop cocoa is still available as harvesting has practically come to an end. With total Bahia crop estimates around 6.4 mln bags and sales standing at almost 6.2 mln there are a few hundred thousand bags still in the hands of farmers, middlemen, exporters and processors.     There are doubts as to how much of this cocoa would be fit for export as shippers are now experiencing dificulties in obtaining +Bahia superior+ certificates.     In view of the lower quality over recent weeks farmers have sold a good part of their cocoa held on consignment.     Comissaria Smith said spot bean prices rose to 340 to 350 cruzados per arroba of 15 kilos.     Bean shippers were reluctant to offer nearby shipment and only limited sales were booked for March shipment at 1,750 to 1,780 dlrs per tonne to ports to be named.     New crop sales were also light and all to open ports with June/July going at 1,850 and 1,880 dlrs and at 35 and 45 dlrs under New York july, Aug/Sept at 1,870, 1,875 and 1,880 dlrs per tonne FOB.     Routine sales of butter were made. March/April sold at 4,340, 4,345 and 4,350 dlrs.     April/May butter went at 2.27 times New York May, June/July at 4,400 and 4,415 dlrs, Aug/Sept at 4,351 to 4,450 dlrs and at 2.27 and 2.28 times New York Sept and Oct/Dec at 4,480 dlrs and 2.27 times New York Dec, Comissaria Smith said.     Destinations were the U.S., Covertible currency areas, Uruguay and open ports.     Cake sales were registered at 785 to 995 dlrs for March/April, 785 dlrs for May, 753 dlrs for Aug and 0.39 times New York Dec for Oct/Dec.     Buyers were the U.S., Argentina, Uruguay and convertible currency areas.     Liquor sales were limited with March/April selling at 2,325 and 2,380 dlrs, June/July at 2,375 dlrs and at 1.25 times New York July, Aug/Sept at 2,400 dlrs and at 1.25 times New York Sept and Oct/Dec at 1.25 times New York Dec, Comissaria Smith said.     Total Bahia sales are currently estimated at 6.13 mln bags against the 1986/87 crop and 1.06 mln bags against the 1987/88 crop.     Final figures for the period to February 28 are expected to be published by the Brazilian Cocoa Trade Commission after carnival which ends midday on February 27.  \u0003</td>\n",
       "    </tr>\n",
       "  </tbody>\n",
       "</table>\n",
       "</div>"
      ],
      "text/plain": [
       "                                                                                                                                                                                                                                                                                                                                                                                                                                                                                                                                                                                                                                                                                                                                                                                                                                                                                                                                                                                                                                                                                                                                                                                                                                                                                                                                                                                                                                                                                                                                                                                                                                                                                                                                                                                                                                                                                                                                                                                                                                                                                                                                                                                                                                                                                                                                                                                                                                                                                                                                                                                                                                                                                                                                                                                                                                                                                                                                                                     Body\n",
       "0  Showers continued throughout the week in the Bahia cocoa zone, alleviating the drought since early January and improving prospects for the coming temporao, although normal humidity levels have not been restored, Comissaria Smith said in its weekly review.     The dry period means the temporao will be late this year.     Arrivals for the week ended February 22 were 155,221 bags of 60 kilos making a cumulative total for the season of 5.93 mln against 5.81 at the same stage last year. Again it seems that cocoa delivered earlier on consignment was included in the arrivals figures.     Comissaria Smith said there is still some doubt as to how much old crop cocoa is still available as harvesting has practically come to an end. With total Bahia crop estimates around 6.4 mln bags and sales standing at almost 6.2 mln there are a few hundred thousand bags still in the hands of farmers, middlemen, exporters and processors.     There are doubts as to how much of this cocoa would be fit for export as shippers are now experiencing dificulties in obtaining +Bahia superior+ certificates.     In view of the lower quality over recent weeks farmers have sold a good part of their cocoa held on consignment.     Comissaria Smith said spot bean prices rose to 340 to 350 cruzados per arroba of 15 kilos.     Bean shippers were reluctant to offer nearby shipment and only limited sales were booked for March shipment at 1,750 to 1,780 dlrs per tonne to ports to be named.     New crop sales were also light and all to open ports with June/July going at 1,850 and 1,880 dlrs and at 35 and 45 dlrs under New York july, Aug/Sept at 1,870, 1,875 and 1,880 dlrs per tonne FOB.     Routine sales of butter were made. March/April sold at 4,340, 4,345 and 4,350 dlrs.     April/May butter went at 2.27 times New York May, June/July at 4,400 and 4,415 dlrs, Aug/Sept at 4,351 to 4,450 dlrs and at 2.27 and 2.28 times New York Sept and Oct/Dec at 4,480 dlrs and 2.27 times New York Dec, Comissaria Smith said.     Destinations were the U.S., Covertible currency areas, Uruguay and open ports.     Cake sales were registered at 785 to 995 dlrs for March/April, 785 dlrs for May, 753 dlrs for Aug and 0.39 times New York Dec for Oct/Dec.     Buyers were the U.S., Argentina, Uruguay and convertible currency areas.     Liquor sales were limited with March/April selling at 2,325 and 2,380 dlrs, June/July at 2,375 dlrs and at 1.25 times New York July, Aug/Sept at 2,400 dlrs and at 1.25 times New York Sept and Oct/Dec at 1.25 times New York Dec, Comissaria Smith said.     Total Bahia sales are currently estimated at 6.13 mln bags against the 1986/87 crop and 1.06 mln bags against the 1987/88 crop.     Final figures for the period to February 28 are expected to be published by the Brazilian Cocoa Trade Commission after carnival which ends midday on February 27.  \u0003"
      ]
     },
     "execution_count": 18,
     "metadata": {},
     "output_type": "execute_result"
    }
   ],
   "source": [
    "df_corpora.head(1)"
   ]
  },
  {
   "cell_type": "markdown",
   "metadata": {},
   "source": [
    "In this first part of the Text Analysis, I want to see, before any text normalization, how many words on average an article has. \n",
    "\n",
    "In order to count sentences, I will rely that a sentence finishes with a dot (.) and and it is followed by a space. It is important to note that dots (.) could also be a part of a float number. \n",
    "\n",
    "In order to count words, I will split the column \"Body\" of my data frame and count the length of it. \n",
    "\n",
    "For characters, I will take into consdieration the length of the \"Body\" of an article."
   ]
  },
  {
   "cell_type": "code",
   "execution_count": 19,
   "metadata": {},
   "outputs": [],
   "source": [
    "df_corpora['Sentences'] = df_corpora['Body'].str.count('\\. ')\n",
    "df_corpora['Total_Words'] = [len(x.split()) for x in df_corpora['Body'].tolist()]\n",
    "df_corpora['Total_Char'] = [len(x) for x in df_corpora['Body'].tolist()]"
   ]
  },
  {
   "cell_type": "code",
   "execution_count": 20,
   "metadata": {},
   "outputs": [
    {
     "data": {
      "text/html": [
       "<div>\n",
       "<style scoped>\n",
       "    .dataframe tbody tr th:only-of-type {\n",
       "        vertical-align: middle;\n",
       "    }\n",
       "\n",
       "    .dataframe tbody tr th {\n",
       "        vertical-align: top;\n",
       "    }\n",
       "\n",
       "    .dataframe thead th {\n",
       "        text-align: right;\n",
       "    }\n",
       "</style>\n",
       "<table border=\"1\" class=\"dataframe\">\n",
       "  <thead>\n",
       "    <tr style=\"text-align: right;\">\n",
       "      <th></th>\n",
       "      <th>Body</th>\n",
       "      <th>Sentences</th>\n",
       "      <th>Total_Words</th>\n",
       "      <th>Total_Char</th>\n",
       "    </tr>\n",
       "  </thead>\n",
       "  <tbody>\n",
       "    <tr>\n",
       "      <td>0</td>\n",
       "      <td>Showers continued throughout the week in the Bahia cocoa zone, alleviating the drought since ear...</td>\n",
       "      <td>20</td>\n",
       "      <td>487</td>\n",
       "      <td>2854</td>\n",
       "    </tr>\n",
       "    <tr>\n",
       "      <td>1</td>\n",
       "      <td>Standard Oil Co and BP North America Inc said they plan to form a venture to manage the money ma...</td>\n",
       "      <td>3</td>\n",
       "      <td>73</td>\n",
       "      <td>432</td>\n",
       "    </tr>\n",
       "    <tr>\n",
       "      <td>2</td>\n",
       "      <td>Texas Commerce Bancshares Inc's Texas Commerce Bank-Houston said it filed an application with th...</td>\n",
       "      <td>2</td>\n",
       "      <td>52</td>\n",
       "      <td>324</td>\n",
       "    </tr>\n",
       "    <tr>\n",
       "      <td>3</td>\n",
       "      <td>BankAmerica Corp is not under pressure to act quickly on its proposed equity offering and would ...</td>\n",
       "      <td>17</td>\n",
       "      <td>456</td>\n",
       "      <td>2836</td>\n",
       "    </tr>\n",
       "  </tbody>\n",
       "</table>\n",
       "</div>"
      ],
      "text/plain": [
       "                                                                                                  Body  \\\n",
       "0  Showers continued throughout the week in the Bahia cocoa zone, alleviating the drought since ear...   \n",
       "1  Standard Oil Co and BP North America Inc said they plan to form a venture to manage the money ma...   \n",
       "2  Texas Commerce Bancshares Inc's Texas Commerce Bank-Houston said it filed an application with th...   \n",
       "3  BankAmerica Corp is not under pressure to act quickly on its proposed equity offering and would ...   \n",
       "\n",
       "   Sentences  Total_Words  Total_Char  \n",
       "0         20          487        2854  \n",
       "1          3           73         432  \n",
       "2          2           52         324  \n",
       "3         17          456        2836  "
      ]
     },
     "execution_count": 20,
     "metadata": {},
     "output_type": "execute_result"
    }
   ],
   "source": [
    "pd.set_option('display.max_colwidth', 100)\n",
    "df_corpora.head(4)"
   ]
  },
  {
   "cell_type": "markdown",
   "metadata": {},
   "source": [
    "Now, I would want to see some statistics regarding my data frame. For example, I want to know on average how many words/sentences/characters an article has."
   ]
  },
  {
   "cell_type": "code",
   "execution_count": 161,
   "metadata": {},
   "outputs": [
    {
     "data": {
      "text/html": [
       "<div>\n",
       "<style scoped>\n",
       "    .dataframe tbody tr th:only-of-type {\n",
       "        vertical-align: middle;\n",
       "    }\n",
       "\n",
       "    .dataframe tbody tr th {\n",
       "        vertical-align: top;\n",
       "    }\n",
       "\n",
       "    .dataframe thead th {\n",
       "        text-align: right;\n",
       "    }\n",
       "</style>\n",
       "<table border=\"1\" class=\"dataframe\">\n",
       "  <thead>\n",
       "    <tr style=\"text-align: right;\">\n",
       "      <th></th>\n",
       "      <th>count</th>\n",
       "      <th>mean</th>\n",
       "      <th>50%</th>\n",
       "      <th>min</th>\n",
       "      <th>max</th>\n",
       "    </tr>\n",
       "  </thead>\n",
       "  <tbody>\n",
       "    <tr>\n",
       "      <td>Sentences</td>\n",
       "      <td>19043.0</td>\n",
       "      <td>6.058079</td>\n",
       "      <td>4.0</td>\n",
       "      <td>0.0</td>\n",
       "      <td>67.0</td>\n",
       "    </tr>\n",
       "    <tr>\n",
       "      <td>Total_Words</td>\n",
       "      <td>19043.0</td>\n",
       "      <td>135.061335</td>\n",
       "      <td>89.0</td>\n",
       "      <td>2.0</td>\n",
       "      <td>1668.0</td>\n",
       "    </tr>\n",
       "    <tr>\n",
       "      <td>Total_Char</td>\n",
       "      <td>19043.0</td>\n",
       "      <td>830.272856</td>\n",
       "      <td>548.0</td>\n",
       "      <td>6.0</td>\n",
       "      <td>13391.0</td>\n",
       "    </tr>\n",
       "  </tbody>\n",
       "</table>\n",
       "</div>"
      ],
      "text/plain": [
       "               count        mean    50%  min      max\n",
       "Sentences    19043.0  6.058079    4.0    0.0  67.0   \n",
       "Total_Words  19043.0  135.061335  89.0   2.0  1668.0 \n",
       "Total_Char   19043.0  830.272856  548.0  6.0  13391.0"
      ]
     },
     "execution_count": 161,
     "metadata": {},
     "output_type": "execute_result"
    }
   ],
   "source": [
    "summary = df_corpora.describe().transpose()\n",
    "summary[['count', 'mean', '50%', 'min', 'max']]"
   ]
  },
  {
   "cell_type": "markdown",
   "metadata": {},
   "source": [
    "What I find the most interesting is that on average, an article has only 4 sentences. And there are articles that do not even have a sentence. I would want to explore into this a little bit more. "
   ]
  },
  {
   "cell_type": "code",
   "execution_count": 154,
   "metadata": {},
   "outputs": [
    {
     "data": {
      "text/plain": [
       "Body           1761\n",
       "Sentences      1761\n",
       "Total_Words    1761\n",
       "Total_Char     1761\n",
       "dtype: int64"
      ]
     },
     "execution_count": 154,
     "metadata": {},
     "output_type": "execute_result"
    }
   ],
   "source": [
    "df_corpora[df_corpora['Sentences'] == 0].count()"
   ]
  },
  {
   "cell_type": "markdown",
   "metadata": {},
   "source": [
    "1701 articles have 0 sentences. I will look into them and see what kind of articles they could be."
   ]
  },
  {
   "cell_type": "code",
   "execution_count": 22,
   "metadata": {},
   "outputs": [
    {
     "data": {
      "text/html": [
       "<div>\n",
       "<style scoped>\n",
       "    .dataframe tbody tr th:only-of-type {\n",
       "        vertical-align: middle;\n",
       "    }\n",
       "\n",
       "    .dataframe tbody tr th {\n",
       "        vertical-align: top;\n",
       "    }\n",
       "\n",
       "    .dataframe thead th {\n",
       "        text-align: right;\n",
       "    }\n",
       "</style>\n",
       "<table border=\"1\" class=\"dataframe\">\n",
       "  <thead>\n",
       "    <tr style=\"text-align: right;\">\n",
       "      <th></th>\n",
       "      <th>Body</th>\n",
       "      <th>Sentences</th>\n",
       "      <th>Total_Words</th>\n",
       "      <th>Total_Char</th>\n",
       "    </tr>\n",
       "  </thead>\n",
       "  <tbody>\n",
       "    <tr>\n",
       "      <td>13</td>\n",
       "      <td>Shr one dlr vs 73 cts     Net 12.6 mln vs 15.8 mln     Revs 337.3 mln vs 315.2 mln     Nine mths...</td>\n",
       "      <td>0</td>\n",
       "      <td>39</td>\n",
       "      <td>192</td>\n",
       "    </tr>\n",
       "    <tr>\n",
       "      <td>33</td>\n",
       "      <td>Qtly div eights cts vs 7.5 cts prior     Pay March 31     Record March 13  \u0003</td>\n",
       "      <td>0</td>\n",
       "      <td>15</td>\n",
       "      <td>76</td>\n",
       "    </tr>\n",
       "    <tr>\n",
       "      <td>35</td>\n",
       "      <td>Shr 45 cts vs 58 cts     Net 1.1 mln vs 829,000     Sales 7.9 mln vs 9.4 mln     Avg shrs 2,332,...</td>\n",
       "      <td>0</td>\n",
       "      <td>47</td>\n",
       "      <td>249</td>\n",
       "    </tr>\n",
       "    <tr>\n",
       "      <td>50</td>\n",
       "      <td>Qtly div 35 cts vs 35 cts prior     Payable March 31     Record March nine   \u0003</td>\n",
       "      <td>0</td>\n",
       "      <td>15</td>\n",
       "      <td>78</td>\n",
       "    </tr>\n",
       "    <tr>\n",
       "      <td>62</td>\n",
       "      <td>Shr 80 cts vs 72 cts     Net 55,513,000 vs 48,741,000     Revs 290.9 mln vs 264.2 mln     Year  ...</td>\n",
       "      <td>0</td>\n",
       "      <td>39</td>\n",
       "      <td>236</td>\n",
       "    </tr>\n",
       "    <tr>\n",
       "      <td>68</td>\n",
       "      <td>Qtly div eights cts vs eight cts prior     Pay April one     Record March 13  \u0003</td>\n",
       "      <td>0</td>\n",
       "      <td>15</td>\n",
       "      <td>79</td>\n",
       "    </tr>\n",
       "    <tr>\n",
       "      <td>79</td>\n",
       "      <td>Qtly div 25 cts vs 25 cts prior     Pay April 30     Record April 16  \u0003</td>\n",
       "      <td>0</td>\n",
       "      <td>15</td>\n",
       "      <td>71</td>\n",
       "    </tr>\n",
       "    <tr>\n",
       "      <td>80</td>\n",
       "      <td>Qtly div two cts vs 1.7 cts     Pay March 26     Record March 12  \u0003</td>\n",
       "      <td>0</td>\n",
       "      <td>14</td>\n",
       "      <td>67</td>\n",
       "    </tr>\n",
       "    <tr>\n",
       "      <td>83</td>\n",
       "      <td>Qtly div three cts vs three cts prior     Pay March 13     Record February 27  \u0003</td>\n",
       "      <td>0</td>\n",
       "      <td>15</td>\n",
       "      <td>80</td>\n",
       "    </tr>\n",
       "    <tr>\n",
       "      <td>89</td>\n",
       "      <td>Shr profit three cts vs loss three cts     Net profit 363,000 vs loss 197,000     Revs 3,761,000...</td>\n",
       "      <td>0</td>\n",
       "      <td>45</td>\n",
       "      <td>268</td>\n",
       "    </tr>\n",
       "  </tbody>\n",
       "</table>\n",
       "</div>"
      ],
      "text/plain": [
       "                                                                                                   Body  \\\n",
       "13  Shr one dlr vs 73 cts     Net 12.6 mln vs 15.8 mln     Revs 337.3 mln vs 315.2 mln     Nine mths...   \n",
       "33                         Qtly div eights cts vs 7.5 cts prior     Pay March 31     Record March 13  \u0003   \n",
       "35  Shr 45 cts vs 58 cts     Net 1.1 mln vs 829,000     Sales 7.9 mln vs 9.4 mln     Avg shrs 2,332,...   \n",
       "50                       Qtly div 35 cts vs 35 cts prior     Payable March 31     Record March nine   \u0003   \n",
       "62  Shr 80 cts vs 72 cts     Net 55,513,000 vs 48,741,000     Revs 290.9 mln vs 264.2 mln     Year  ...   \n",
       "68                      Qtly div eights cts vs eight cts prior     Pay April one     Record March 13  \u0003   \n",
       "79                              Qtly div 25 cts vs 25 cts prior     Pay April 30     Record April 16  \u0003   \n",
       "80                                  Qtly div two cts vs 1.7 cts     Pay March 26     Record March 12  \u0003   \n",
       "83                     Qtly div three cts vs three cts prior     Pay March 13     Record February 27  \u0003   \n",
       "89  Shr profit three cts vs loss three cts     Net profit 363,000 vs loss 197,000     Revs 3,761,000...   \n",
       "\n",
       "    Sentences  Total_Words  Total_Char  \n",
       "13          0           39         192  \n",
       "33          0           15          76  \n",
       "35          0           47         249  \n",
       "50          0           15          78  \n",
       "62          0           39         236  \n",
       "68          0           15          79  \n",
       "79          0           15          71  \n",
       "80          0           14          67  \n",
       "83          0           15          80  \n",
       "89          0           45         268  "
      ]
     },
     "execution_count": 22,
     "metadata": {},
     "output_type": "execute_result"
    }
   ],
   "source": [
    "df_corpora[df_corpora['Sentences'] == 0].head(10)"
   ]
  },
  {
   "cell_type": "markdown",
   "metadata": {},
   "source": [
    "From the information above, we can see these articles could be talking about dividends or revenues. They are just phrases and most words are in a shortened form.\n",
    "\n",
    "One way to see what these data is all about would be to go back to the Beautiful soup and allign all data in a data frame, consider titles and article type.\n",
    "\n",
    "I choose to not remove these articles because although I am currently just exploring the data set, maybe later on, I could use this data to predict what kind of news this article belongs to. "
   ]
  },
  {
   "cell_type": "markdown",
   "metadata": {},
   "source": [
    "## Making some plots\n",
    "I am curious about how the distributions look like, if most articles tend to have more than 10 sentences or if they are usually longer. \n",
    "\n",
    "I will plot three histograms to see how Sentences, Words, and Characters manifest their distributions."
   ]
  },
  {
   "cell_type": "code",
   "execution_count": 58,
   "metadata": {},
   "outputs": [
    {
     "data": {
      "image/png": "[encoded data removed]",
      "text/plain": [
       "<Figure size 1080x360 with 3 Axes>"
      ]
     },
     "metadata": {
      "needs_background": "light"
     },
     "output_type": "display_data"
    }
   ],
   "source": [
    "fig, axs = plt.subplots(1, 3, tight_layout = False, figsize = (15,5))\n",
    "\n",
    "axs[0].hist(df_corpora['Sentences'], color = 'blue', edgecolor = 'black', alpha = 0.3, bins = int(40))\n",
    "axs[0].set_title('Sentences Count Distr.',fontsize='medium')\n",
    "axs[1].hist(df_corpora['Total_Words'], color = 'orange', edgecolor = 'black', alpha = 0.3, bins = int(40))\n",
    "axs[1].set_title('Words Count Distr.',fontsize='medium')\n",
    "axs[2].hist(df_corpora['Total_Char'], color = 'red', edgecolor = 'black', alpha = 0.3, bins = int(20))\n",
    "axs[2].set_title('Characters Count Distr.',fontsize='medium')\n",
    "\n",
    "\n",
    "plt.show()"
   ]
  },
  {
   "cell_type": "markdown",
   "metadata": {},
   "source": [
    "Out of about 19000 articles, less than 50% have only 4 sentences/89 words/548 characters. I think this is because about 1800 articles were \"stock market\" articles and these articles are very short and have just shortened words and values. \n",
    "\n",
    "## Tokenizing and Using N-Grams in the Dataframe"
   ]
  },
  {
   "cell_type": "code",
   "execution_count": 143,
   "metadata": {},
   "outputs": [
    {
     "data": {
      "text/html": [
       "<div>\n",
       "<style scoped>\n",
       "    .dataframe tbody tr th:only-of-type {\n",
       "        vertical-align: middle;\n",
       "    }\n",
       "\n",
       "    .dataframe tbody tr th {\n",
       "        vertical-align: top;\n",
       "    }\n",
       "\n",
       "    .dataframe thead th {\n",
       "        text-align: right;\n",
       "    }\n",
       "</style>\n",
       "<table border=\"1\" class=\"dataframe\">\n",
       "  <thead>\n",
       "    <tr style=\"text-align: right;\">\n",
       "      <th></th>\n",
       "      <th>Body</th>\n",
       "      <th>tokenized_sents</th>\n",
       "      <th>Bigrams</th>\n",
       "    </tr>\n",
       "  </thead>\n",
       "  <tbody>\n",
       "    <tr>\n",
       "      <td>0</td>\n",
       "      <td>Showers continued throughout the week in the Bahia cocoa zone, alleviating the drought since early January and improving prospects for the coming temporao, although normal humidity levels have not been restored, Comissaria Smith said in its weekly review.     The dry period means the temporao wi...</td>\n",
       "      <td>[Showers, continued, throughout, the, week, in, the, Bahia, cocoa, zone, ,, alleviating, the, drought, since, early, January, and, improving, prospects, for, the, coming, temporao, ,, although, normal, humidity, levels, have, not, been, restored, ,, Comissaria, Smith, said, in, its, weekly, revi...</td>\n",
       "      <td>[(Showers, continued), (continued, throughout), (throughout, the), (the, week), (week, in), (in, the), (the, Bahia), (Bahia, cocoa), (cocoa, zone), (zone, ,), (,, alleviating), (alleviating, the), (the, drought), (drought, since), (since, early), (early, January), (January, and), (and, improving...</td>\n",
       "    </tr>\n",
       "    <tr>\n",
       "      <td>1</td>\n",
       "      <td>Standard Oil Co and BP North America Inc said they plan to form a venture to manage the money market borrowing and investment activities of both companies.     BP North America is a subsidiary of British Petroleum Co Plc &lt;BP&gt;, which also owns a 55 pct interest in Standard Oil.     The venture wi...</td>\n",
       "      <td>[Standard, Oil, Co, and, BP, North, America, Inc, said, they, plan, to, form, a, venture, to, manage, the, money, market, borrowing, and, investment, activities, of, both, companies, ., BP, North, America, is, a, subsidiary, of, British, Petroleum, Co, Plc, &lt;, BP, &gt;, ,, which, also, owns, a, 55,...</td>\n",
       "      <td>[(Standard, Oil), (Oil, Co), (Co, and), (and, BP), (BP, North), (North, America), (America, Inc), (Inc, said), (said, they), (they, plan), (plan, to), (to, form), (form, a), (a, venture), (venture, to), (to, manage), (manage, the), (the, money), (money, market), (market, borrowing), (borrowing, ...</td>\n",
       "    </tr>\n",
       "    <tr>\n",
       "      <td>2</td>\n",
       "      <td>Texas Commerce Bancshares Inc's Texas Commerce Bank-Houston said it filed an application with the Comptroller of the Currency in an effort to create the largest banking network in Harris County.     The bank said the network would link 31 banks having 13.5 billion dlrs in assets and 7.5 billion ...</td>\n",
       "      <td>[Texas, Commerce, Bancshares, Inc, 's, Texas, Commerce, Bank-Houston, said, it, filed, an, application, with, the, Comptroller, of, the, Currency, in, an, effort, to, create, the, largest, banking, network, in, Harris, County, ., The, bank, said, the, network, would, link, 31, banks, having, 13....</td>\n",
       "      <td>[(Texas, Commerce), (Commerce, Bancshares), (Bancshares, Inc), (Inc, 's), ('s, Texas), (Texas, Commerce), (Commerce, Bank-Houston), (Bank-Houston, said), (said, it), (it, filed), (filed, an), (an, application), (application, with), (with, the), (the, Comptroller), (Comptroller, of), (of, the), (...</td>\n",
       "    </tr>\n",
       "  </tbody>\n",
       "</table>\n",
       "</div>"
      ],
      "text/plain": [
       "                                                                                                                                                                                                                                                                                                          Body  \\\n",
       "0  Showers continued throughout the week in the Bahia cocoa zone, alleviating the drought since early January and improving prospects for the coming temporao, although normal humidity levels have not been restored, Comissaria Smith said in its weekly review.     The dry period means the temporao wi...   \n",
       "1  Standard Oil Co and BP North America Inc said they plan to form a venture to manage the money market borrowing and investment activities of both companies.     BP North America is a subsidiary of British Petroleum Co Plc <BP>, which also owns a 55 pct interest in Standard Oil.     The venture wi...   \n",
       "2  Texas Commerce Bancshares Inc's Texas Commerce Bank-Houston said it filed an application with the Comptroller of the Currency in an effort to create the largest banking network in Harris County.     The bank said the network would link 31 banks having 13.5 billion dlrs in assets and 7.5 billion ...   \n",
       "\n",
       "                                                                                                                                                                                                                                                                                               tokenized_sents  \\\n",
       "0  [Showers, continued, throughout, the, week, in, the, Bahia, cocoa, zone, ,, alleviating, the, drought, since, early, January, and, improving, prospects, for, the, coming, temporao, ,, although, normal, humidity, levels, have, not, been, restored, ,, Comissaria, Smith, said, in, its, weekly, revi...   \n",
       "1  [Standard, Oil, Co, and, BP, North, America, Inc, said, they, plan, to, form, a, venture, to, manage, the, money, market, borrowing, and, investment, activities, of, both, companies, ., BP, North, America, is, a, subsidiary, of, British, Petroleum, Co, Plc, <, BP, >, ,, which, also, owns, a, 55,...   \n",
       "2  [Texas, Commerce, Bancshares, Inc, 's, Texas, Commerce, Bank-Houston, said, it, filed, an, application, with, the, Comptroller, of, the, Currency, in, an, effort, to, create, the, largest, banking, network, in, Harris, County, ., The, bank, said, the, network, would, link, 31, banks, having, 13....   \n",
       "\n",
       "                                                                                                                                                                                                                                                                                                       Bigrams  \n",
       "0  [(Showers, continued), (continued, throughout), (throughout, the), (the, week), (week, in), (in, the), (the, Bahia), (Bahia, cocoa), (cocoa, zone), (zone, ,), (,, alleviating), (alleviating, the), (the, drought), (drought, since), (since, early), (early, January), (January, and), (and, improving...  \n",
       "1  [(Standard, Oil), (Oil, Co), (Co, and), (and, BP), (BP, North), (North, America), (America, Inc), (Inc, said), (said, they), (they, plan), (plan, to), (to, form), (form, a), (a, venture), (venture, to), (to, manage), (manage, the), (the, money), (money, market), (market, borrowing), (borrowing, ...  \n",
       "2  [(Texas, Commerce), (Commerce, Bancshares), (Bancshares, Inc), (Inc, 's), ('s, Texas), (Texas, Commerce), (Commerce, Bank-Houston), (Bank-Houston, said), (said, it), (it, filed), (filed, an), (an, application), (application, with), (with, the), (the, Comptroller), (Comptroller, of), (of, the), (...  "
      ]
     },
     "execution_count": 143,
     "metadata": {},
     "output_type": "execute_result"
    }
   ],
   "source": [
    "from nltk.util import ngrams\n",
    "\n",
    "df_corpora['tokenized_sents'] = df_corpora.apply(lambda row: nltk.word_tokenize(row['Body']), axis=1)\n",
    "df_corpora['Bigrams']= df_corpora['tokenized_sents'].apply(lambda row: list(nltk.ngrams(row, 2)))\n",
    "df_corpora[['Body','tokenized_sents', 'Bigrams']].head(3)"
   ]
  },
  {
   "cell_type": "markdown",
   "metadata": {},
   "source": [
    "## Normalizing the Data\n",
    "\n",
    "Now, I wonder if I removed stop words, punctuation and changed my vocabulary to a lemmatized one, how would all these features change. I will have for sure less characters and words. But I would also have no sentences. \n",
    "\n",
    "Usually, when working with text data, we must normalize by: lowering capital letters, removing punctuation signs and digits and changing vocabulary to their lemmas or stems."
   ]
  },
  {
   "cell_type": "code",
   "execution_count": 93,
   "metadata": {},
   "outputs": [],
   "source": [
    "# Remove stopwords, punctuation, digits.\n",
    "df_corpora['Norm_Body'] = df_corpora['Body'].str.lower()\\\n",
    "                                             .replace('\"', '', regex = True)\\\n",
    "                                             .str.replace('[^\\w\\s]','')\\\n",
    "                                             .replace(\"\\[[0-9]*\\]\",\"\", regex = True)\\\n",
    "                                             .str.replace('\\d+', '')#\\\n",
    "                                            # .apply(lambda x: [item for item in x if item not in stop_words])"
   ]
  },
  {
   "cell_type": "code",
   "execution_count": 94,
   "metadata": {},
   "outputs": [],
   "source": [
    "# Removing stopwords\n",
    "stop_words = list(set(stopwords.words('english')))\n",
    "df_corpora['Norm_Body'] = df_corpora['Norm_Body'].apply(lambda x: ' '.join([word for word in x.split() if word not in (stop_words)]))"
   ]
  },
  {
   "cell_type": "code",
   "execution_count": 95,
   "metadata": {},
   "outputs": [
    {
     "data": {
      "text/html": [
       "<div>\n",
       "<style scoped>\n",
       "    .dataframe tbody tr th:only-of-type {\n",
       "        vertical-align: middle;\n",
       "    }\n",
       "\n",
       "    .dataframe tbody tr th {\n",
       "        vertical-align: top;\n",
       "    }\n",
       "\n",
       "    .dataframe thead th {\n",
       "        text-align: right;\n",
       "    }\n",
       "</style>\n",
       "<table border=\"1\" class=\"dataframe\">\n",
       "  <thead>\n",
       "    <tr style=\"text-align: right;\">\n",
       "      <th></th>\n",
       "      <th>Body</th>\n",
       "      <th>Norm_Body</th>\n",
       "    </tr>\n",
       "  </thead>\n",
       "  <tbody>\n",
       "    <tr>\n",
       "      <td>0</td>\n",
       "      <td>Showers continued throughout the week in the Bahia cocoa zone, alleviating the drought since early January and improving prospects for the coming temporao, although normal humidity levels have not been restored, Comissaria Smith said in its weekly review.     The dry period means the temporao wi...</td>\n",
       "      <td>showers continued throughout week bahia cocoa zone alleviating drought since early january improving prospects coming temporao although normal humidity levels restored comissaria smith said weekly review dry period means temporao late year arrivals week ended february bags kilos making cumulativ...</td>\n",
       "    </tr>\n",
       "    <tr>\n",
       "      <td>1</td>\n",
       "      <td>Standard Oil Co and BP North America Inc said they plan to form a venture to manage the money market borrowing and investment activities of both companies.     BP North America is a subsidiary of British Petroleum Co Plc &lt;BP&gt;, which also owns a 55 pct interest in Standard Oil.     The venture wi...</td>\n",
       "      <td>standard oil co bp north america inc said plan form venture manage money market borrowing investment activities companies bp north america subsidiary british petroleum co plc bp also owns pct interest standard oil venture called bpstandard financial trading operated standard oil oversight joint ...</td>\n",
       "    </tr>\n",
       "  </tbody>\n",
       "</table>\n",
       "</div>"
      ],
      "text/plain": [
       "                                                                                                                                                                                                                                                                                                          Body  \\\n",
       "0  Showers continued throughout the week in the Bahia cocoa zone, alleviating the drought since early January and improving prospects for the coming temporao, although normal humidity levels have not been restored, Comissaria Smith said in its weekly review.     The dry period means the temporao wi...   \n",
       "1  Standard Oil Co and BP North America Inc said they plan to form a venture to manage the money market borrowing and investment activities of both companies.     BP North America is a subsidiary of British Petroleum Co Plc <BP>, which also owns a 55 pct interest in Standard Oil.     The venture wi...   \n",
       "\n",
       "                                                                                                                                                                                                                                                                                                     Norm_Body  \n",
       "0  showers continued throughout week bahia cocoa zone alleviating drought since early january improving prospects coming temporao although normal humidity levels restored comissaria smith said weekly review dry period means temporao late year arrivals week ended february bags kilos making cumulativ...  \n",
       "1  standard oil co bp north america inc said plan form venture manage money market borrowing investment activities companies bp north america subsidiary british petroleum co plc bp also owns pct interest standard oil venture called bpstandard financial trading operated standard oil oversight joint ...  "
      ]
     },
     "execution_count": 95,
     "metadata": {},
     "output_type": "execute_result"
    }
   ],
   "source": [
    "pd.set_option('display.max_colwidth', 300)\n",
    "df_corpora[['Body', 'Norm_Body']].head(2)"
   ]
  },
  {
   "cell_type": "code",
   "execution_count": 96,
   "metadata": {},
   "outputs": [],
   "source": [
    "df_corpora['NB_Sentences'] = df_corpora['Norm_Body'].str.count('\\. ')\n",
    "df_corpora['NB_Total_Words'] = [len(x.split()) for x in df_corpora['Norm_Body'].tolist()]\n",
    "df_corpora['NB_Total_Char'] = [len(x) for x in df_corpora['Norm_Body'].tolist()]"
   ]
  },
  {
   "cell_type": "code",
   "execution_count": 134,
   "metadata": {},
   "outputs": [
    {
     "data": {
      "text/html": [
       "<div>\n",
       "<style scoped>\n",
       "    .dataframe tbody tr th:only-of-type {\n",
       "        vertical-align: middle;\n",
       "    }\n",
       "\n",
       "    .dataframe tbody tr th {\n",
       "        vertical-align: top;\n",
       "    }\n",
       "\n",
       "    .dataframe thead th {\n",
       "        text-align: right;\n",
       "    }\n",
       "</style>\n",
       "<table border=\"1\" class=\"dataframe\">\n",
       "  <thead>\n",
       "    <tr style=\"text-align: right;\">\n",
       "      <th></th>\n",
       "      <th>mean</th>\n",
       "      <th>min</th>\n",
       "      <th>50%</th>\n",
       "      <th>max</th>\n",
       "    </tr>\n",
       "  </thead>\n",
       "  <tbody>\n",
       "    <tr>\n",
       "      <td>Total_Words</td>\n",
       "      <td>135.010923</td>\n",
       "      <td>2.0</td>\n",
       "      <td>89.0</td>\n",
       "      <td>1668.0</td>\n",
       "    </tr>\n",
       "    <tr>\n",
       "      <td>NB_Total_Words</td>\n",
       "      <td>81.000998</td>\n",
       "      <td>0.0</td>\n",
       "      <td>54.0</td>\n",
       "      <td>819.0</td>\n",
       "    </tr>\n",
       "    <tr>\n",
       "      <td>Total_Char</td>\n",
       "      <td>829.499711</td>\n",
       "      <td>6.0</td>\n",
       "      <td>547.0</td>\n",
       "      <td>13390.0</td>\n",
       "    </tr>\n",
       "    <tr>\n",
       "      <td>NB_Total_Char</td>\n",
       "      <td>580.564039</td>\n",
       "      <td>0.0</td>\n",
       "      <td>385.0</td>\n",
       "      <td>6350.0</td>\n",
       "    </tr>\n",
       "  </tbody>\n",
       "</table>\n",
       "</div>"
      ],
      "text/plain": [
       "                      mean  min    50%      max\n",
       "Total_Words     135.010923  2.0   89.0   1668.0\n",
       "NB_Total_Words   81.000998  0.0   54.0    819.0\n",
       "Total_Char      829.499711  6.0  547.0  13390.0\n",
       "NB_Total_Char   580.564039  0.0  385.0   6350.0"
      ]
     },
     "execution_count": 134,
     "metadata": {},
     "output_type": "execute_result"
    }
   ],
   "source": [
    "summary = pd.DataFrame(df_corpora.describe().transpose())\n",
    "\n",
    "summary[['mean', 'min', '50%', 'max']].loc[['Total_Words','NB_Total_Words', 'Total_Char', \"NB_Total_Char\"]]"
   ]
  },
  {
   "cell_type": "code",
   "execution_count": 136,
   "metadata": {},
   "outputs": [
    {
     "data": {
      "image/png": "[encoded data removed]",
      "text/plain": [
       "<Figure size 1080x360 with 2 Axes>"
      ]
     },
     "metadata": {
      "needs_background": "light"
     },
     "output_type": "display_data"
    }
   ],
   "source": [
    "# Plots comparing word count\n",
    "\n",
    "fig, axs = plt.subplots(1, 2, tight_layout = False, figsize = (15,5))\n",
    "\n",
    "axs[0].hist(df_corpora['Total_Words'], color = 'orange', edgecolor = 'black', alpha = 0.3, bins = int(40))\n",
    "axs[0].set_title('Words Count Distr.',fontsize='medium')\n",
    "axs[1].hist(df_corpora['NB_Total_Words'], color = 'red', edgecolor = 'black', alpha = 0.3, bins = int(40))\n",
    "axs[1].set_title('Normalized Total Words Distr.',fontsize='medium')\n",
    "\n",
    "\n",
    "plt.show()"
   ]
  },
  {
   "cell_type": "code",
   "execution_count": 137,
   "metadata": {},
   "outputs": [
    {
     "data": {
      "image/png": "[encoded data removed]",
      "text/plain": [
       "<Figure size 1080x360 with 2 Axes>"
      ]
     },
     "metadata": {
      "needs_background": "light"
     },
     "output_type": "display_data"
    }
   ],
   "source": [
    "# Plots comparing char count\n",
    "\n",
    "fig, axs = plt.subplots(1, 2, tight_layout = False, figsize = (15,5))\n",
    "\n",
    "axs[0].hist(df_corpora['Total_Char'], color = 'orange', edgecolor = 'black', alpha = 0.3, bins = int(40))\n",
    "axs[0].set_title('Char Count Distr.',fontsize='medium')\n",
    "axs[1].hist(df_corpora['NB_Total_Char'], color = 'red', edgecolor = 'black', alpha = 0.3, bins = int(40))\n",
    "axs[1].set_title('Normalized Total Characters Distr.',fontsize='medium')\n",
    "\n",
    "\n",
    "plt.show()"
   ]
  },
  {
   "cell_type": "markdown",
   "metadata": {},
   "source": [
    "## Lemmatization and Stemming"
   ]
  },
  {
   "cell_type": "code",
   "execution_count": 15,
   "metadata": {},
   "outputs": [
    {
     "data": {
      "text/plain": [
       "'continued'"
      ]
     },
     "execution_count": 15,
     "metadata": {},
     "output_type": "execute_result"
    }
   ],
   "source": [
    "example = wnl.lemmatize('continued')\n",
    "example"
   ]
  },
  {
   "cell_type": "code",
   "execution_count": 14,
   "metadata": {},
   "outputs": [
    {
     "name": "stdout",
     "output_type": "stream",
     "text": [
      "shower continued throughout week bahia cocoa zone alleviating drought since early january improving prospect coming temporao although normal humidity level restored comissaria smith said weekly review dry period mean temporao late year arrival week ended february bag kilo making cumulative total season mln stage last year seems cocoa delivered earlier consignment included arrival figure comissaria smith said still doubt much old crop cocoa still available harvesting practically come end total bahia crop estimate around mln bag sale standing almost mln hundred thousand bag still hand farmer middleman exporter processor doubt much cocoa would fit export shipper experiencing dificulties obtaining bahia superior certificate view lower quality recent week farmer sold good part cocoa held consignment comissaria smith said spot bean price rose cruzados per arroba kilo bean shipper reluctant offer nearby shipment limited sale booked march shipment dlrs per tonne port named new crop sale also light open port junejuly going dlrs dlrs new york july augsept dlrs per tonne fob routine sale butter made marchapril sold dlrs aprilmay butter went time new york may junejuly dlrs augsept dlrs time new york sept octdec dlrs time new york dec comissaria smith said destination u covertible currency area uruguay open port cake sale registered dlrs marchapril dlrs may dlrs aug time new york dec octdec buyer u argentina uruguay convertible currency area liquor sale limited marchapril selling dlrs junejuly dlrs time new york july augsept dlrs time new york sept octdec time new york dec comissaria smith said total bahia sale currently estimated mln bag crop mln bag crop final figure period february expected published brazilian cocoa trade commission carnival end midday february\n"
     ]
    }
   ],
   "source": [
    "# Change the corpora's full words for just the lemmas\n",
    "wnl = WordNetLemmatizer()\n",
    "corpora_lem = [\" \".join([wnl.lemmatize(word) for word in corpus]) for corpus in corpora]\n",
    "# print the first article as a running example\n",
    "print(corpora_lem[0])"
   ]
  },
  {
   "cell_type": "code",
   "execution_count": 58,
   "metadata": {},
   "outputs": [
    {
     "name": "stdout",
     "output_type": "stream",
     "text": [
      "shower continu throughout week bahia cocoa zone allevi drought sinc earli januari improv prospect come temporao although normal humid level restor comissaria smith said weekli review dri period mean temporao late year arriv week end februari bag kilo make cumul total season mln stage last year seem cocoa deliv earlier consign includ arriv figur comissaria smith said still doubt much old crop cocoa still avail harvest practic come end total bahia crop estim around mln bag sale stand almost mln hundr thousand bag still hand farmer middlemen export processor doubt much cocoa would fit export shipper experienc dificulti obtain bahia superior certif view lower qualiti recent week farmer sold good part cocoa held consign comissaria smith said spot bean price rose cruzado per arroba kilo bean shipper reluct offer nearbi shipment limit sale book march shipment dlr per tonn port name new crop sale also light open port junejuli go dlr dlr new york juli augsept dlr per tonn fob routin sale butter made marchapril sold dlr aprilmay butter went time new york may junejuli dlr augsept dlr time new york sept octdec dlr time new york dec comissaria smith said destin us covert currenc area uruguay open port cake sale regist dlr marchapril dlr may dlr aug time new york dec octdec buyer us argentina uruguay convert currenc area liquor sale limit marchapril sell dlr junejuli dlr time new york juli augsept dlr time new york sept octdec time new york dec comissaria smith said total bahia sale current estim mln bag crop mln bag crop final figur period februari expect publish brazilian cocoa trade commiss carniv end midday februari\n"
     ]
    }
   ],
   "source": [
    "# Change the corpora's full words for just the stems\n",
    "ps = nltk.PorterStemmer()\n",
    "corpora_stem = [\" \".join([ps.stem(word) for word in corpus]) for corpus in corpora]\n",
    "# print the first article as a running example\n",
    "print(corpora_stem[0])"
   ]
  }
 ],
 "metadata": {
  "kernelspec": {
   "display_name": "Python 3",
   "language": "python",
   "name": "python3"
  },
  "language_info": {
   "codemirror_mode": {
    "name": "ipython",
    "version": 3
   },
   "file_extension": ".py",
   "mimetype": "text/x-python",
   "name": "python",
   "nbconvert_exporter": "python",
   "pygments_lexer": "ipython3",
   "version": "3.7.4"
  }
 },
 "nbformat": 4,
 "nbformat_minor": 4
}
