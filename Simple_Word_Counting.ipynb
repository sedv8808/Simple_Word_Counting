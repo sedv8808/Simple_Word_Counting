{
 "cells": [
  {
   "cell_type": "markdown",
   "metadata": {},
   "source": [
    "# Simple word-counting and TF-IDF semantics"
   ]
  },
  {
   "cell_type": "code",
   "execution_count": 2,
   "metadata": {},
   "outputs": [],
   "source": [
    "# Load sys to read files\n",
    "import sys\n",
    "import os\n",
    "\n",
    "import pandas as pd\n",
    "import numpy as np\n",
    "import matplotlib.pyplot as plt\n",
    "import string\n",
    "import re\n",
    "\n",
    "import nltk\n",
    "from nltk.corpus import reuters\n",
    "from nltk.tokenize import RegexpTokenizer\n",
    "from nltk.corpus import stopwords\n",
    "from nltk.tokenize import sent_tokenize, word_tokenize\n",
    "from nltk.stem import PorterStemmer\n",
    "from nltk.stem import WordNetLemmatizer\n",
    "from nltk.corpus import wordnet\n",
    "# nltk.download('reuters')"
   ]
  },
  {
   "cell_type": "code",
   "execution_count": 3,
   "metadata": {},
   "outputs": [],
   "source": [
    "# List downloaded files\n",
    "\n",
    "# os.listdir('Data/reuters21578/')"
   ]
  },
  {
   "cell_type": "markdown",
   "metadata": {},
   "source": [
    "After reading the README text, I know that the collection I am interested in is in the 22 sgm files. \n",
    "To access these files, I will use `open as infile`. \n",
    "\n",
    "There are 6 files describing the categories used to index the data as well."
   ]
  },
  {
   "cell_type": "markdown",
   "metadata": {},
   "source": [
    "Opening just one file as an example:"
   ]
  },
  {
   "cell_type": "code",
   "execution_count": 4,
   "metadata": {},
   "outputs": [],
   "source": [
    "# Open a first file as an example. Used 'r' because it is text mode parsing (read only).\n",
    "with open('../Data/reuters21578/reut2-008.sgm', 'r', encoding = 'utf-8', errors = 'ignore') as infile:\n",
    "        data = infile.read()\n",
    "\n",
    "# To print as a sanity check, uncomment.\n",
    "#print(data)"
   ]
  },
  {
   "cell_type": "markdown",
   "metadata": {},
   "source": [
    "Despite the difficult format presentation, the corpus is there. \n",
    "\n",
    "I will open all the files in the directory and assemble them in an array called data."
   ]
  },
  {
   "cell_type": "code",
   "execution_count": 5,
   "metadata": {},
   "outputs": [
    {
     "data": {
      "text/plain": [
       "'<!DOCTYPE lewis SYSTEM \"lewis.dtd\">\\n<REUTERS TOPICS=\"YES\" LEWISSPLIT=\"TRAIN\" CGISPLIT=\"TRAINING-SET\" OLDID=\"5544\" NEWID=\"1\">\\n<DATE>26-FEB-1987 15:01:01.79</DATE>\\n<TOPICS><D>cocoa</D></TOPICS>\\n<PLACES><D>el-salvador</D><D>usa</D><D>uruguay</D></PLACES>\\n<PEOPLE></PEOPLE>\\n<ORGS></ORGS>\\n<EXCHANGES></EXCHANGES>\\n<COMPANIES></COMPANIES>\\n<UNKNOWN> \\n&#5;&#5;&#5;C T\\n&#22;&#22;&#1;f0704&#31;reute\\nu f BC-BAHIA-COCOA-REVIEW   02-26 0105</UNKNOWN>\\n<TEXT>&#2;\\n<TITLE>BAHIA COCOA REVIEW</TITLE>\\n<DATELINE>    SALVADOR, Feb 26 - </DATELINE><BODY>Showers continued throughout the week in\\nthe Bahia cocoa zone, alle'"
      ]
     },
     "execution_count": 5,
     "metadata": {},
     "output_type": "execute_result"
    }
   ],
   "source": [
    "data = []\n",
    "\n",
    "for i in range(22):\n",
    "    # Open all filenames. Pad {0} to 3 digits with str methods. \n",
    "    # Use range from 0 to 22.\n",
    "    filename = '../Data/reuters21578/reut2-{0}.sgm'.format(str(i).zfill(3))\n",
    "    \n",
    "    # Encoding with most common scheme.\n",
    "    with open(filename, 'r', encoding = 'utf-8', errors = 'ignore') as infile:\n",
    "        data.append(infile.read())\n",
    "        \n",
    "# Print first 100 characters of the first article\n",
    "data[0][:600]"
   ]
  },
  {
   "cell_type": "markdown",
   "metadata": {},
   "source": [
    "All corpora have been set up in an array of arrays. We can see that the text format seems to have a HTML presentation. In order to give some format, I will use BeautifulSoup package."
   ]
  },
  {
   "cell_type": "markdown",
   "metadata": {},
   "source": [
    "As a sanity check, I will see what the NLTK package has for 'Reuters' database. "
   ]
  },
  {
   "cell_type": "code",
   "execution_count": 6,
   "metadata": {},
   "outputs": [],
   "source": [
    "# nltk.corpus.reuters.raw()"
   ]
  },
  {
   "cell_type": "markdown",
   "metadata": {},
   "source": [
    "Looks like it is the same database, however the articles are in different order."
   ]
  },
  {
   "cell_type": "markdown",
   "metadata": {},
   "source": [
    "Now, I will use BeautifulSoup to parse the text. BeautifulSoup will allow to remove all the HTML tags. There are several ways to do this. I could run a loop and attach an article between the tags of <Body> to a dataframe. "
   ]
  },
  {
   "cell_type": "code",
   "execution_count": 7,
   "metadata": {},
   "outputs": [],
   "source": [
    "from bs4 import BeautifulSoup\n",
    "example_soup = BeautifulSoup(data[0], 'html.parser')\n",
    "\n",
    "# print(example_soup.prettify()) # Makes the above easier to read. More as we would see on a describe HTML panel (when scrapping).\n",
    "# print(example_soup.get_text())  # Removes HTML flags.\n",
    "# print(example_soup.find_all('body')) # Extracts the text from the HTML tag we choose. This case, the 'Body' tag."
   ]
  },
  {
   "cell_type": "code",
   "execution_count": 8,
   "metadata": {},
   "outputs": [
    {
     "data": {
      "text/plain": [
       "bs4.BeautifulSoup"
      ]
     },
     "execution_count": 8,
     "metadata": {},
     "output_type": "execute_result"
    }
   ],
   "source": [
    "type(example_soup)"
   ]
  },
  {
   "cell_type": "markdown",
   "metadata": {},
   "source": [
    "Let's now put all the corpus in the soup. The soup object can just take one index at a time. We need to iterate over our data list."
   ]
  },
  {
   "cell_type": "code",
   "execution_count": 9,
   "metadata": {},
   "outputs": [],
   "source": [
    "corpora = []\n",
    "for text in data:\n",
    "    # Parse text as html using beautiful soup\n",
    "    parsed_text = BeautifulSoup(text, 'html.parser')\n",
    "    table = parsed_text.find_all('body')[0] \n",
    "#print(table)\n",
    "\n",
    "#type(table)"
   ]
  },
  {
   "cell_type": "code",
   "execution_count": 10,
   "metadata": {},
   "outputs": [
    {
     "name": "stdout",
     "output_type": "stream",
     "text": [
      "Showers continued throughout the week in\n",
      "the Bahia cocoa zone, alleviating the drought since early\n",
      "January and improving prospects for the coming temporao,\n",
      "although normal humidity levels have not been restored,\n",
      "Comissaria Smith said in its weekly review.\n",
      "    The dry period means the temporao will b\n"
     ]
    }
   ],
   "source": [
    "corpora = []\n",
    "for text in data:\n",
    "    # Parse text as html using beautiful soup\n",
    "    parsed_text = BeautifulSoup(text, 'html.parser')\n",
    "    \n",
    "    # Extract article between <BODY> and </BODY> and convert to standard text. Add to list of articles\n",
    "    corpora += [corpora.get_text() for corpora in parsed_text.find_all('body')]\n",
    "\n",
    "# Print first article as an example\n",
    "print(corpora[0][:300])"
   ]
  },
  {
   "cell_type": "code",
   "execution_count": 11,
   "metadata": {},
   "outputs": [
    {
     "data": {
      "text/html": [
       "<div>\n",
       "<style scoped>\n",
       "    .dataframe tbody tr th:only-of-type {\n",
       "        vertical-align: middle;\n",
       "    }\n",
       "\n",
       "    .dataframe tbody tr th {\n",
       "        vertical-align: top;\n",
       "    }\n",
       "\n",
       "    .dataframe thead th {\n",
       "        text-align: right;\n",
       "    }\n",
       "</style>\n",
       "<table border=\"1\" class=\"dataframe\">\n",
       "  <thead>\n",
       "    <tr style=\"text-align: right;\">\n",
       "      <th></th>\n",
       "      <th>Body</th>\n",
       "    </tr>\n",
       "  </thead>\n",
       "  <tbody>\n",
       "    <tr>\n",
       "      <td>0</td>\n",
       "      <td>Showers continued throughout the week in\\nthe ...</td>\n",
       "    </tr>\n",
       "    <tr>\n",
       "      <td>1</td>\n",
       "      <td>Standard Oil Co and BP North America\\nInc said...</td>\n",
       "    </tr>\n",
       "  </tbody>\n",
       "</table>\n",
       "</div>"
      ],
      "text/plain": [
       "                                                Body\n",
       "0  Showers continued throughout the week in\\nthe ...\n",
       "1  Standard Oil Co and BP North America\\nInc said..."
      ]
     },
     "execution_count": 11,
     "metadata": {},
     "output_type": "execute_result"
    }
   ],
   "source": [
    "# Make Corpora be a DF\n",
    "\n",
    "df_corpora = pd.DataFrame({'Body': corpora})\n",
    "df_corpora.head(2)"
   ]
  },
  {
   "cell_type": "markdown",
   "metadata": {},
   "source": [
    "## Exploring the Data\n",
    "\n",
    "Although I have removed some HTML tags, before normalizingthe data, I would still want to remove symbols such as \\n or the word Reuter that appears at the end of all articles. This word is not necessary for my analysis. \n",
    "\n",
    "Afterwards, I will do a more formal \"Normalizing\" of the data."
   ]
  },
  {
   "cell_type": "code",
   "execution_count": 12,
   "metadata": {},
   "outputs": [],
   "source": [
    "# Option to see the whole column\n",
    "pd.set_option('display.max_colwidth', 100)\n",
    "\n",
    "# Removing symbols such as \\n, Reuter, and '' that are just showing break lines.\n",
    "df_corpora = df_corpora.replace('\"', '', regex = True)\\\n",
    "                       .replace(\"\\n\", ' ', regex = True)\\\n",
    "                       .replace(' Reuter', '', regex = True)"
   ]
  },
  {
   "cell_type": "code",
   "execution_count": 13,
   "metadata": {},
   "outputs": [
    {
     "data": {
      "text/html": [
       "<div>\n",
       "<style scoped>\n",
       "    .dataframe tbody tr th:only-of-type {\n",
       "        vertical-align: middle;\n",
       "    }\n",
       "\n",
       "    .dataframe tbody tr th {\n",
       "        vertical-align: top;\n",
       "    }\n",
       "\n",
       "    .dataframe thead th {\n",
       "        text-align: right;\n",
       "    }\n",
       "</style>\n",
       "<table border=\"1\" class=\"dataframe\">\n",
       "  <thead>\n",
       "    <tr style=\"text-align: right;\">\n",
       "      <th></th>\n",
       "      <th>Body</th>\n",
       "    </tr>\n",
       "  </thead>\n",
       "  <tbody>\n",
       "    <tr>\n",
       "      <td>0</td>\n",
       "      <td>Showers continued throughout the week in the Bahia cocoa zone, alleviating the drought since ear...</td>\n",
       "    </tr>\n",
       "  </tbody>\n",
       "</table>\n",
       "</div>"
      ],
      "text/plain": [
       "                                                                                                  Body\n",
       "0  Showers continued throughout the week in the Bahia cocoa zone, alleviating the drought since ear..."
      ]
     },
     "execution_count": 13,
     "metadata": {},
     "output_type": "execute_result"
    }
   ],
   "source": [
    "df_corpora.head(1)"
   ]
  },
  {
   "cell_type": "markdown",
   "metadata": {},
   "source": [
    "In this first part of the Text Analysis, I want to see, before any text normalization, how many words on average an article has. \n",
    "\n",
    "In order to count sentences, I will rely that a sentence finishes with a dot (.) and and it is followed by a space. It is important to note that dots (.) could also be a part of a float number. \n",
    "\n",
    "In order to count words, I will split the column \"Body\" of my data frame and count the length of it. \n",
    "\n",
    "For characters, I will take into consdieration the length of the \"Body\" of an article."
   ]
  },
  {
   "cell_type": "code",
   "execution_count": 14,
   "metadata": {},
   "outputs": [],
   "source": [
    "df_corpora['Sentences'] = df_corpora['Body'].str.count('\\. ')\n",
    "df_corpora['Total_Words'] = [len(x.split()) for x in df_corpora['Body'].tolist()]\n",
    "df_corpora['Total_Char'] = [len(x) for x in df_corpora['Body'].tolist()]"
   ]
  },
  {
   "cell_type": "code",
   "execution_count": 15,
   "metadata": {},
   "outputs": [
    {
     "data": {
      "text/html": [
       "<div>\n",
       "<style scoped>\n",
       "    .dataframe tbody tr th:only-of-type {\n",
       "        vertical-align: middle;\n",
       "    }\n",
       "\n",
       "    .dataframe tbody tr th {\n",
       "        vertical-align: top;\n",
       "    }\n",
       "\n",
       "    .dataframe thead th {\n",
       "        text-align: right;\n",
       "    }\n",
       "</style>\n",
       "<table border=\"1\" class=\"dataframe\">\n",
       "  <thead>\n",
       "    <tr style=\"text-align: right;\">\n",
       "      <th></th>\n",
       "      <th>Body</th>\n",
       "      <th>Sentences</th>\n",
       "      <th>Total_Words</th>\n",
       "      <th>Total_Char</th>\n",
       "    </tr>\n",
       "  </thead>\n",
       "  <tbody>\n",
       "    <tr>\n",
       "      <td>0</td>\n",
       "      <td>Showers continued throughout the week in the Bahia cocoa zone, alleviating the drought since ear...</td>\n",
       "      <td>20</td>\n",
       "      <td>487</td>\n",
       "      <td>2854</td>\n",
       "    </tr>\n",
       "    <tr>\n",
       "      <td>1</td>\n",
       "      <td>Standard Oil Co and BP North America Inc said they plan to form a venture to manage the money ma...</td>\n",
       "      <td>3</td>\n",
       "      <td>73</td>\n",
       "      <td>432</td>\n",
       "    </tr>\n",
       "    <tr>\n",
       "      <td>2</td>\n",
       "      <td>Texas Commerce Bancshares Inc's Texas Commerce Bank-Houston said it filed an application with th...</td>\n",
       "      <td>2</td>\n",
       "      <td>52</td>\n",
       "      <td>324</td>\n",
       "    </tr>\n",
       "    <tr>\n",
       "      <td>3</td>\n",
       "      <td>BankAmerica Corp is not under pressure to act quickly on its proposed equity offering and would ...</td>\n",
       "      <td>17</td>\n",
       "      <td>456</td>\n",
       "      <td>2836</td>\n",
       "    </tr>\n",
       "  </tbody>\n",
       "</table>\n",
       "</div>"
      ],
      "text/plain": [
       "                                                                                                  Body  \\\n",
       "0  Showers continued throughout the week in the Bahia cocoa zone, alleviating the drought since ear...   \n",
       "1  Standard Oil Co and BP North America Inc said they plan to form a venture to manage the money ma...   \n",
       "2  Texas Commerce Bancshares Inc's Texas Commerce Bank-Houston said it filed an application with th...   \n",
       "3  BankAmerica Corp is not under pressure to act quickly on its proposed equity offering and would ...   \n",
       "\n",
       "   Sentences  Total_Words  Total_Char  \n",
       "0         20          487        2854  \n",
       "1          3           73         432  \n",
       "2          2           52         324  \n",
       "3         17          456        2836  "
      ]
     },
     "execution_count": 15,
     "metadata": {},
     "output_type": "execute_result"
    }
   ],
   "source": [
    "pd.set_option('display.max_colwidth', 100)\n",
    "df_corpora.head(4)"
   ]
  },
  {
   "cell_type": "markdown",
   "metadata": {},
   "source": [
    "Now, I would want to see some statistics regarding my data frame. For example, I want to know on average how many words/sentences/characters an article has."
   ]
  },
  {
   "cell_type": "code",
   "execution_count": 16,
   "metadata": {},
   "outputs": [
    {
     "data": {
      "text/html": [
       "<div>\n",
       "<style scoped>\n",
       "    .dataframe tbody tr th:only-of-type {\n",
       "        vertical-align: middle;\n",
       "    }\n",
       "\n",
       "    .dataframe tbody tr th {\n",
       "        vertical-align: top;\n",
       "    }\n",
       "\n",
       "    .dataframe thead th {\n",
       "        text-align: right;\n",
       "    }\n",
       "</style>\n",
       "<table border=\"1\" class=\"dataframe\">\n",
       "  <thead>\n",
       "    <tr style=\"text-align: right;\">\n",
       "      <th></th>\n",
       "      <th>count</th>\n",
       "      <th>mean</th>\n",
       "      <th>50%</th>\n",
       "      <th>min</th>\n",
       "      <th>max</th>\n",
       "    </tr>\n",
       "  </thead>\n",
       "  <tbody>\n",
       "    <tr>\n",
       "      <td>Sentences</td>\n",
       "      <td>19043.0</td>\n",
       "      <td>6.058027</td>\n",
       "      <td>4.0</td>\n",
       "      <td>0.0</td>\n",
       "      <td>67.0</td>\n",
       "    </tr>\n",
       "    <tr>\n",
       "      <td>Total_Words</td>\n",
       "      <td>19043.0</td>\n",
       "      <td>135.010923</td>\n",
       "      <td>89.0</td>\n",
       "      <td>2.0</td>\n",
       "      <td>1668.0</td>\n",
       "    </tr>\n",
       "    <tr>\n",
       "      <td>Total_Char</td>\n",
       "      <td>19043.0</td>\n",
       "      <td>829.499711</td>\n",
       "      <td>547.0</td>\n",
       "      <td>6.0</td>\n",
       "      <td>13390.0</td>\n",
       "    </tr>\n",
       "  </tbody>\n",
       "</table>\n",
       "</div>"
      ],
      "text/plain": [
       "               count        mean    50%  min      max\n",
       "Sentences    19043.0    6.058027    4.0  0.0     67.0\n",
       "Total_Words  19043.0  135.010923   89.0  2.0   1668.0\n",
       "Total_Char   19043.0  829.499711  547.0  6.0  13390.0"
      ]
     },
     "execution_count": 16,
     "metadata": {},
     "output_type": "execute_result"
    }
   ],
   "source": [
    "summary = df_corpora.describe().transpose()\n",
    "summary[['count', 'mean', '50%', 'min', 'max']]"
   ]
  },
  {
   "cell_type": "markdown",
   "metadata": {},
   "source": [
    "What I find the most interesting is that on average, an article has only 4 sentences. And there are articles that do not even have a sentence. I would want to explore into this a little bit more. "
   ]
  },
  {
   "cell_type": "code",
   "execution_count": 17,
   "metadata": {},
   "outputs": [
    {
     "data": {
      "text/plain": [
       "Body           1761\n",
       "Sentences      1761\n",
       "Total_Words    1761\n",
       "Total_Char     1761\n",
       "dtype: int64"
      ]
     },
     "execution_count": 17,
     "metadata": {},
     "output_type": "execute_result"
    }
   ],
   "source": [
    "df_corpora[df_corpora['Sentences'] == 0].count()"
   ]
  },
  {
   "cell_type": "markdown",
   "metadata": {},
   "source": [
    "1701 articles have 0 sentences. I will look into them and see what kind of articles they could be."
   ]
  },
  {
   "cell_type": "code",
   "execution_count": 18,
   "metadata": {},
   "outputs": [
    {
     "data": {
      "text/html": [
       "<div>\n",
       "<style scoped>\n",
       "    .dataframe tbody tr th:only-of-type {\n",
       "        vertical-align: middle;\n",
       "    }\n",
       "\n",
       "    .dataframe tbody tr th {\n",
       "        vertical-align: top;\n",
       "    }\n",
       "\n",
       "    .dataframe thead th {\n",
       "        text-align: right;\n",
       "    }\n",
       "</style>\n",
       "<table border=\"1\" class=\"dataframe\">\n",
       "  <thead>\n",
       "    <tr style=\"text-align: right;\">\n",
       "      <th></th>\n",
       "      <th>Body</th>\n",
       "      <th>Sentences</th>\n",
       "      <th>Total_Words</th>\n",
       "      <th>Total_Char</th>\n",
       "    </tr>\n",
       "  </thead>\n",
       "  <tbody>\n",
       "    <tr>\n",
       "      <td>13</td>\n",
       "      <td>Shr one dlr vs 73 cts     Net 12.6 mln vs 15.8 mln     Revs 337.3 mln vs 315.2 mln     Nine mths...</td>\n",
       "      <td>0</td>\n",
       "      <td>39</td>\n",
       "      <td>192</td>\n",
       "    </tr>\n",
       "    <tr>\n",
       "      <td>33</td>\n",
       "      <td>Qtly div eights cts vs 7.5 cts prior     Pay March 31     Record March 13  \u0003</td>\n",
       "      <td>0</td>\n",
       "      <td>15</td>\n",
       "      <td>76</td>\n",
       "    </tr>\n",
       "    <tr>\n",
       "      <td>35</td>\n",
       "      <td>Shr 45 cts vs 58 cts     Net 1.1 mln vs 829,000     Sales 7.9 mln vs 9.4 mln     Avg shrs 2,332,...</td>\n",
       "      <td>0</td>\n",
       "      <td>47</td>\n",
       "      <td>249</td>\n",
       "    </tr>\n",
       "    <tr>\n",
       "      <td>50</td>\n",
       "      <td>Qtly div 35 cts vs 35 cts prior     Payable March 31     Record March nine   \u0003</td>\n",
       "      <td>0</td>\n",
       "      <td>15</td>\n",
       "      <td>78</td>\n",
       "    </tr>\n",
       "    <tr>\n",
       "      <td>62</td>\n",
       "      <td>Shr 80 cts vs 72 cts     Net 55,513,000 vs 48,741,000     Revs 290.9 mln vs 264.2 mln     Year  ...</td>\n",
       "      <td>0</td>\n",
       "      <td>39</td>\n",
       "      <td>236</td>\n",
       "    </tr>\n",
       "    <tr>\n",
       "      <td>68</td>\n",
       "      <td>Qtly div eights cts vs eight cts prior     Pay April one     Record March 13  \u0003</td>\n",
       "      <td>0</td>\n",
       "      <td>15</td>\n",
       "      <td>79</td>\n",
       "    </tr>\n",
       "    <tr>\n",
       "      <td>79</td>\n",
       "      <td>Qtly div 25 cts vs 25 cts prior     Pay April 30     Record April 16  \u0003</td>\n",
       "      <td>0</td>\n",
       "      <td>15</td>\n",
       "      <td>71</td>\n",
       "    </tr>\n",
       "    <tr>\n",
       "      <td>80</td>\n",
       "      <td>Qtly div two cts vs 1.7 cts     Pay March 26     Record March 12  \u0003</td>\n",
       "      <td>0</td>\n",
       "      <td>14</td>\n",
       "      <td>67</td>\n",
       "    </tr>\n",
       "    <tr>\n",
       "      <td>83</td>\n",
       "      <td>Qtly div three cts vs three cts prior     Pay March 13     Record February 27  \u0003</td>\n",
       "      <td>0</td>\n",
       "      <td>15</td>\n",
       "      <td>80</td>\n",
       "    </tr>\n",
       "    <tr>\n",
       "      <td>89</td>\n",
       "      <td>Shr profit three cts vs loss three cts     Net profit 363,000 vs loss 197,000     Revs 3,761,000...</td>\n",
       "      <td>0</td>\n",
       "      <td>45</td>\n",
       "      <td>268</td>\n",
       "    </tr>\n",
       "  </tbody>\n",
       "</table>\n",
       "</div>"
      ],
      "text/plain": [
       "                                                                                                   Body  \\\n",
       "13  Shr one dlr vs 73 cts     Net 12.6 mln vs 15.8 mln     Revs 337.3 mln vs 315.2 mln     Nine mths...   \n",
       "33                         Qtly div eights cts vs 7.5 cts prior     Pay March 31     Record March 13  \u0003   \n",
       "35  Shr 45 cts vs 58 cts     Net 1.1 mln vs 829,000     Sales 7.9 mln vs 9.4 mln     Avg shrs 2,332,...   \n",
       "50                       Qtly div 35 cts vs 35 cts prior     Payable March 31     Record March nine   \u0003   \n",
       "62  Shr 80 cts vs 72 cts     Net 55,513,000 vs 48,741,000     Revs 290.9 mln vs 264.2 mln     Year  ...   \n",
       "68                      Qtly div eights cts vs eight cts prior     Pay April one     Record March 13  \u0003   \n",
       "79                              Qtly div 25 cts vs 25 cts prior     Pay April 30     Record April 16  \u0003   \n",
       "80                                  Qtly div two cts vs 1.7 cts     Pay March 26     Record March 12  \u0003   \n",
       "83                     Qtly div three cts vs three cts prior     Pay March 13     Record February 27  \u0003   \n",
       "89  Shr profit three cts vs loss three cts     Net profit 363,000 vs loss 197,000     Revs 3,761,000...   \n",
       "\n",
       "    Sentences  Total_Words  Total_Char  \n",
       "13          0           39         192  \n",
       "33          0           15          76  \n",
       "35          0           47         249  \n",
       "50          0           15          78  \n",
       "62          0           39         236  \n",
       "68          0           15          79  \n",
       "79          0           15          71  \n",
       "80          0           14          67  \n",
       "83          0           15          80  \n",
       "89          0           45         268  "
      ]
     },
     "execution_count": 18,
     "metadata": {},
     "output_type": "execute_result"
    }
   ],
   "source": [
    "df_corpora[df_corpora['Sentences'] == 0].head(10)"
   ]
  },
  {
   "cell_type": "markdown",
   "metadata": {},
   "source": [
    "From the information above, we can see these articles could be talking about dividends or revenues. They are just phrases and most words are in a shortened form.\n",
    "\n",
    "One way to see what these data is all about would be to go back to the Beautiful soup and allign all data in a data frame, consider titles and article type.\n",
    "\n",
    "I choose to not remove these articles because although I am currently just exploring the data set, maybe later on, I could use this data to predict what kind of news this article belongs to. "
   ]
  },
  {
   "cell_type": "markdown",
   "metadata": {},
   "source": [
    "## Making some plots\n",
    "I am curious about how the distributions look like, if most articles tend to have more than 10 sentences or if they are usually longer. \n",
    "\n",
    "I will plot three histograms to see how Sentences, Words, and Characters manifest their distributions."
   ]
  },
  {
   "cell_type": "code",
   "execution_count": 19,
   "metadata": {},
   "outputs": [
    {
     "data": {
      "image/png": "[encoded data removed]",
      "text/plain": [
       "<Figure size 1080x360 with 3 Axes>"
      ]
     },
     "metadata": {
      "needs_background": "light"
     },
     "output_type": "display_data"
    }
   ],
   "source": [
    "fig, axs = plt.subplots(1, 3, tight_layout = False, figsize = (15,5))\n",
    "\n",
    "axs[0].hist(df_corpora['Sentences'], color = 'blue', edgecolor = 'black', alpha = 0.3, bins = int(40))\n",
    "axs[0].set_title('Sentences Count Distr.',fontsize='medium')\n",
    "axs[1].hist(df_corpora['Total_Words'], color = 'orange', edgecolor = 'black', alpha = 0.3, bins = int(40))\n",
    "axs[1].set_title('Words Count Distr.',fontsize='medium')\n",
    "axs[2].hist(df_corpora['Total_Char'], color = 'red', edgecolor = 'black', alpha = 0.3, bins = int(20))\n",
    "axs[2].set_title('Characters Count Distr.',fontsize='medium')\n",
    "\n",
    "\n",
    "plt.show()"
   ]
  },
  {
   "cell_type": "markdown",
   "metadata": {},
   "source": [
    "Out of about 19000 articles, less than 50% have only 4 sentences/89 words/548 characters. I think this is because about 1800 articles were \"stock market\" articles and these articles are very short and have just shortened words and values. \n",
    "\n",
    "## Tokenizing and Using N-Grams in the Dataframe"
   ]
  },
  {
   "cell_type": "code",
   "execution_count": 20,
   "metadata": {},
   "outputs": [
    {
     "data": {
      "text/html": [
       "<div>\n",
       "<style scoped>\n",
       "    .dataframe tbody tr th:only-of-type {\n",
       "        vertical-align: middle;\n",
       "    }\n",
       "\n",
       "    .dataframe tbody tr th {\n",
       "        vertical-align: top;\n",
       "    }\n",
       "\n",
       "    .dataframe thead th {\n",
       "        text-align: right;\n",
       "    }\n",
       "</style>\n",
       "<table border=\"1\" class=\"dataframe\">\n",
       "  <thead>\n",
       "    <tr style=\"text-align: right;\">\n",
       "      <th></th>\n",
       "      <th>Body</th>\n",
       "      <th>tokenized_sents</th>\n",
       "      <th>Bigrams</th>\n",
       "      <th>Bigram_count</th>\n",
       "    </tr>\n",
       "  </thead>\n",
       "  <tbody>\n",
       "    <tr>\n",
       "      <td>0</td>\n",
       "      <td>Showers continued throughout the week in the Bahia cocoa zone, alleviating the drought since ear...</td>\n",
       "      <td>[Showers, continued, throughout, the, week, in, the, Bahia, cocoa, zone, ,, alleviating, the, dr...</td>\n",
       "      <td>[(Showers, continued), (continued, throughout), (throughout, the), (the, week), (week, in), (in,...</td>\n",
       "      <td>526</td>\n",
       "    </tr>\n",
       "    <tr>\n",
       "      <td>1</td>\n",
       "      <td>Standard Oil Co and BP North America Inc said they plan to form a venture to manage the money ma...</td>\n",
       "      <td>[Standard, Oil, Co, and, BP, North, America, Inc, said, they, plan, to, form, a, venture, to, ma...</td>\n",
       "      <td>[(Standard, Oil), (Oil, Co), (Co, and), (and, BP), (BP, North), (North, America), (America, Inc)...</td>\n",
       "      <td>78</td>\n",
       "    </tr>\n",
       "    <tr>\n",
       "      <td>2</td>\n",
       "      <td>Texas Commerce Bancshares Inc's Texas Commerce Bank-Houston said it filed an application with th...</td>\n",
       "      <td>[Texas, Commerce, Bancshares, Inc, 's, Texas, Commerce, Bank-Houston, said, it, filed, an, appli...</td>\n",
       "      <td>[(Texas, Commerce), (Commerce, Bancshares), (Bancshares, Inc), (Inc, 's), ('s, Texas), (Texas, C...</td>\n",
       "      <td>54</td>\n",
       "    </tr>\n",
       "  </tbody>\n",
       "</table>\n",
       "</div>"
      ],
      "text/plain": [
       "                                                                                                  Body  \\\n",
       "0  Showers continued throughout the week in the Bahia cocoa zone, alleviating the drought since ear...   \n",
       "1  Standard Oil Co and BP North America Inc said they plan to form a venture to manage the money ma...   \n",
       "2  Texas Commerce Bancshares Inc's Texas Commerce Bank-Houston said it filed an application with th...   \n",
       "\n",
       "                                                                                       tokenized_sents  \\\n",
       "0  [Showers, continued, throughout, the, week, in, the, Bahia, cocoa, zone, ,, alleviating, the, dr...   \n",
       "1  [Standard, Oil, Co, and, BP, North, America, Inc, said, they, plan, to, form, a, venture, to, ma...   \n",
       "2  [Texas, Commerce, Bancshares, Inc, 's, Texas, Commerce, Bank-Houston, said, it, filed, an, appli...   \n",
       "\n",
       "                                                                                               Bigrams  \\\n",
       "0  [(Showers, continued), (continued, throughout), (throughout, the), (the, week), (week, in), (in,...   \n",
       "1  [(Standard, Oil), (Oil, Co), (Co, and), (and, BP), (BP, North), (North, America), (America, Inc)...   \n",
       "2  [(Texas, Commerce), (Commerce, Bancshares), (Bancshares, Inc), (Inc, 's), ('s, Texas), (Texas, C...   \n",
       "\n",
       "   Bigram_count  \n",
       "0           526  \n",
       "1            78  \n",
       "2            54  "
      ]
     },
     "execution_count": 20,
     "metadata": {},
     "output_type": "execute_result"
    }
   ],
   "source": [
    "from nltk.util import ngrams\n",
    "\n",
    "df_corpora['tokenized_sents'] = df_corpora.apply(lambda row: nltk.word_tokenize(row['Body']), axis=1)\n",
    "df_corpora['Bigrams']= df_corpora['tokenized_sents'].apply(lambda row: list(nltk.ngrams(row, 2)))\n",
    "df_corpora['Bigram_count'] = df_corpora['Bigrams'].str.len()\n",
    "df_corpora[['Body','tokenized_sents', 'Bigrams', 'Bigram_count']].head(3)"
   ]
  },
  {
   "cell_type": "code",
   "execution_count": 21,
   "metadata": {},
   "outputs": [],
   "source": [
    "# Sanity check to make sure bigrams are being counted accordingly\n",
    "# pd.set_option('display.max_colwidth', -1)\n",
    "# df_corpora[df_corpora[\"Bigram_count\"] == 10]"
   ]
  },
  {
   "cell_type": "markdown",
   "metadata": {},
   "source": [
    "## Normalizing the Data\n",
    "\n",
    "Now, I wonder if I removed stop words, punctuation and changed my vocabulary to a lemmatized one, how would all these features change. I will have for sure less characters and words. But I would also have no sentences. \n",
    "\n",
    "Usually, when working with text data, we must normalize by: lowering capital letters, removing punctuation signs and digits and changing vocabulary to their lemmas or stems."
   ]
  },
  {
   "cell_type": "code",
   "execution_count": 22,
   "metadata": {},
   "outputs": [],
   "source": [
    "# Remove stopwords, punctuation, digits.\n",
    "df_corpora['Norm_Body'] = df_corpora['Body'].str.lower()\\\n",
    "                                             .replace('\"', '', regex = True)\\\n",
    "                                             .str.replace('[^\\w\\s]','')\\\n",
    "                                             .replace(\"\\[[0-9]*\\]\",\"\", regex = True)\\\n",
    "                                             .str.replace('\\d+', '')#\\\n",
    "                                            # .apply(lambda x: [item for item in x if item not in stop_words])"
   ]
  },
  {
   "cell_type": "code",
   "execution_count": 23,
   "metadata": {},
   "outputs": [],
   "source": [
    "# Removing stopwords\n",
    "stop_words = list(set(stopwords.words('english')))\n",
    "df_corpora['Norm_Body'] = df_corpora['Norm_Body'].apply(lambda x: ' '.join([word for word in x.split() if word not in (stop_words)]))"
   ]
  },
  {
   "cell_type": "code",
   "execution_count": 24,
   "metadata": {},
   "outputs": [
    {
     "data": {
      "text/html": [
       "<div>\n",
       "<style scoped>\n",
       "    .dataframe tbody tr th:only-of-type {\n",
       "        vertical-align: middle;\n",
       "    }\n",
       "\n",
       "    .dataframe tbody tr th {\n",
       "        vertical-align: top;\n",
       "    }\n",
       "\n",
       "    .dataframe thead th {\n",
       "        text-align: right;\n",
       "    }\n",
       "</style>\n",
       "<table border=\"1\" class=\"dataframe\">\n",
       "  <thead>\n",
       "    <tr style=\"text-align: right;\">\n",
       "      <th></th>\n",
       "      <th>Body</th>\n",
       "      <th>Norm_Body</th>\n",
       "    </tr>\n",
       "  </thead>\n",
       "  <tbody>\n",
       "    <tr>\n",
       "      <td>0</td>\n",
       "      <td>Showers continued throughout the week in the Bahia cocoa zone, alleviating the drought since early January and improving prospects for the coming temporao, although normal humidity levels have not been restored, Comissaria Smith said in its weekly review.     The dry period means the temporao wi...</td>\n",
       "      <td>showers continued throughout week bahia cocoa zone alleviating drought since early january improving prospects coming temporao although normal humidity levels restored comissaria smith said weekly review dry period means temporao late year arrivals week ended february bags kilos making cumulativ...</td>\n",
       "    </tr>\n",
       "    <tr>\n",
       "      <td>1</td>\n",
       "      <td>Standard Oil Co and BP North America Inc said they plan to form a venture to manage the money market borrowing and investment activities of both companies.     BP North America is a subsidiary of British Petroleum Co Plc &lt;BP&gt;, which also owns a 55 pct interest in Standard Oil.     The venture wi...</td>\n",
       "      <td>standard oil co bp north america inc said plan form venture manage money market borrowing investment activities companies bp north america subsidiary british petroleum co plc bp also owns pct interest standard oil venture called bpstandard financial trading operated standard oil oversight joint ...</td>\n",
       "    </tr>\n",
       "  </tbody>\n",
       "</table>\n",
       "</div>"
      ],
      "text/plain": [
       "                                                                                                                                                                                                                                                                                                          Body  \\\n",
       "0  Showers continued throughout the week in the Bahia cocoa zone, alleviating the drought since early January and improving prospects for the coming temporao, although normal humidity levels have not been restored, Comissaria Smith said in its weekly review.     The dry period means the temporao wi...   \n",
       "1  Standard Oil Co and BP North America Inc said they plan to form a venture to manage the money market borrowing and investment activities of both companies.     BP North America is a subsidiary of British Petroleum Co Plc <BP>, which also owns a 55 pct interest in Standard Oil.     The venture wi...   \n",
       "\n",
       "                                                                                                                                                                                                                                                                                                     Norm_Body  \n",
       "0  showers continued throughout week bahia cocoa zone alleviating drought since early january improving prospects coming temporao although normal humidity levels restored comissaria smith said weekly review dry period means temporao late year arrivals week ended february bags kilos making cumulativ...  \n",
       "1  standard oil co bp north america inc said plan form venture manage money market borrowing investment activities companies bp north america subsidiary british petroleum co plc bp also owns pct interest standard oil venture called bpstandard financial trading operated standard oil oversight joint ...  "
      ]
     },
     "execution_count": 24,
     "metadata": {},
     "output_type": "execute_result"
    }
   ],
   "source": [
    "pd.set_option('display.max_colwidth', 300)\n",
    "df_corpora[['Body', 'Norm_Body']].head(2)"
   ]
  },
  {
   "cell_type": "code",
   "execution_count": 25,
   "metadata": {},
   "outputs": [],
   "source": [
    "df_corpora['NB_Sentences'] = df_corpora['Norm_Body'].str.count('\\. ')\n",
    "df_corpora['NB_Total_Words'] = [len(x.split()) for x in df_corpora['Norm_Body'].tolist()]\n",
    "df_corpora['NB_Total_Char'] = [len(x) for x in df_corpora['Norm_Body'].tolist()]"
   ]
  },
  {
   "cell_type": "code",
   "execution_count": 26,
   "metadata": {},
   "outputs": [
    {
     "data": {
      "text/html": [
       "<div>\n",
       "<style scoped>\n",
       "    .dataframe tbody tr th:only-of-type {\n",
       "        vertical-align: middle;\n",
       "    }\n",
       "\n",
       "    .dataframe tbody tr th {\n",
       "        vertical-align: top;\n",
       "    }\n",
       "\n",
       "    .dataframe thead th {\n",
       "        text-align: right;\n",
       "    }\n",
       "</style>\n",
       "<table border=\"1\" class=\"dataframe\">\n",
       "  <thead>\n",
       "    <tr style=\"text-align: right;\">\n",
       "      <th></th>\n",
       "      <th>mean</th>\n",
       "      <th>min</th>\n",
       "      <th>50%</th>\n",
       "      <th>max</th>\n",
       "    </tr>\n",
       "  </thead>\n",
       "  <tbody>\n",
       "    <tr>\n",
       "      <td>Total_Words</td>\n",
       "      <td>135.010923</td>\n",
       "      <td>2.0</td>\n",
       "      <td>89.0</td>\n",
       "      <td>1668.0</td>\n",
       "    </tr>\n",
       "    <tr>\n",
       "      <td>NB_Total_Words</td>\n",
       "      <td>81.000998</td>\n",
       "      <td>0.0</td>\n",
       "      <td>54.0</td>\n",
       "      <td>819.0</td>\n",
       "    </tr>\n",
       "    <tr>\n",
       "      <td>Total_Char</td>\n",
       "      <td>829.499711</td>\n",
       "      <td>6.0</td>\n",
       "      <td>547.0</td>\n",
       "      <td>13390.0</td>\n",
       "    </tr>\n",
       "    <tr>\n",
       "      <td>NB_Total_Char</td>\n",
       "      <td>580.564039</td>\n",
       "      <td>0.0</td>\n",
       "      <td>385.0</td>\n",
       "      <td>6350.0</td>\n",
       "    </tr>\n",
       "  </tbody>\n",
       "</table>\n",
       "</div>"
      ],
      "text/plain": [
       "                      mean  min    50%      max\n",
       "Total_Words     135.010923  2.0   89.0   1668.0\n",
       "NB_Total_Words   81.000998  0.0   54.0    819.0\n",
       "Total_Char      829.499711  6.0  547.0  13390.0\n",
       "NB_Total_Char   580.564039  0.0  385.0   6350.0"
      ]
     },
     "execution_count": 26,
     "metadata": {},
     "output_type": "execute_result"
    }
   ],
   "source": [
    "summary = pd.DataFrame(df_corpora.describe().transpose())\n",
    "\n",
    "summary[['mean', 'min', '50%', 'max']].loc[['Total_Words','NB_Total_Words', 'Total_Char', \"NB_Total_Char\"]]"
   ]
  },
  {
   "cell_type": "code",
   "execution_count": 27,
   "metadata": {},
   "outputs": [
    {
     "data": {
      "image/png": "[encoded data removed]",
      "text/plain": [
       "<Figure size 1080x360 with 2 Axes>"
      ]
     },
     "metadata": {
      "needs_background": "light"
     },
     "output_type": "display_data"
    }
   ],
   "source": [
    "# Plots comparing word count\n",
    "\n",
    "fig, axs = plt.subplots(1, 2, tight_layout = False, figsize = (15,5))\n",
    "\n",
    "axs[0].hist(df_corpora['Total_Words'], color = 'orange', edgecolor = 'black', alpha = 0.3, bins = int(40))\n",
    "axs[0].set_title('Words Count Distr.',fontsize='medium')\n",
    "axs[1].hist(df_corpora['NB_Total_Words'], color = 'red', edgecolor = 'black', alpha = 0.3, bins = int(40))\n",
    "axs[1].set_title('Normalized Total Words Distr.',fontsize='medium')\n",
    "\n",
    "\n",
    "plt.show()"
   ]
  },
  {
   "cell_type": "code",
   "execution_count": 28,
   "metadata": {},
   "outputs": [
    {
     "data": {
      "image/png": "[encoded data removed]",
      "text/plain": [
       "<Figure size 1080x360 with 2 Axes>"
      ]
     },
     "metadata": {
      "needs_background": "light"
     },
     "output_type": "display_data"
    }
   ],
   "source": [
    "# Plots comparing char count\n",
    "\n",
    "fig, axs = plt.subplots(1, 2, tight_layout = False, figsize = (15,5))\n",
    "\n",
    "axs[0].hist(df_corpora['Total_Char'], color = 'orange', edgecolor = 'black', alpha = 0.3, bins = int(40))\n",
    "axs[0].set_title('Char Count Distr.',fontsize='medium')\n",
    "axs[1].hist(df_corpora['NB_Total_Char'], color = 'red', edgecolor = 'black', alpha = 0.3, bins = int(40))\n",
    "axs[1].set_title('Normalized Total Characters Distr.',fontsize='medium')\n",
    "\n",
    "\n",
    "plt.show()"
   ]
  },
  {
   "cell_type": "code",
   "execution_count": 29,
   "metadata": {},
   "outputs": [
    {
     "data": {
      "text/html": [
       "<div>\n",
       "<style scoped>\n",
       "    .dataframe tbody tr th:only-of-type {\n",
       "        vertical-align: middle;\n",
       "    }\n",
       "\n",
       "    .dataframe tbody tr th {\n",
       "        vertical-align: top;\n",
       "    }\n",
       "\n",
       "    .dataframe thead th {\n",
       "        text-align: right;\n",
       "    }\n",
       "</style>\n",
       "<table border=\"1\" class=\"dataframe\">\n",
       "  <thead>\n",
       "    <tr style=\"text-align: right;\">\n",
       "      <th></th>\n",
       "      <th>Norm_Body</th>\n",
       "      <th>norm_tokenized_sents</th>\n",
       "      <th>Norm_Bigrams</th>\n",
       "    </tr>\n",
       "  </thead>\n",
       "  <tbody>\n",
       "    <tr>\n",
       "      <td>0</td>\n",
       "      <td>showers continued throughout week bahia cocoa zone alleviating drought since early january improving prospects coming temporao although normal humidity levels restored comissaria smith said weekly review dry period means temporao late year arrivals week ended february bags kilos making cumulativ...</td>\n",
       "      <td>[showers, continued, throughout, week, bahia, cocoa, zone, alleviating, drought, since, early, january, improving, prospects, coming, temporao, although, normal, humidity, levels, restored, comissaria, smith, said, weekly, review, dry, period, means, temporao, late, year, arrivals, week, ended, ...</td>\n",
       "      <td>[(showers, continued), (continued, throughout), (throughout, week), (week, bahia), (bahia, cocoa), (cocoa, zone), (zone, alleviating), (alleviating, drought), (drought, since), (since, early), (early, january), (january, improving), (improving, prospects), (prospects, coming), (coming, temporao)...</td>\n",
       "    </tr>\n",
       "    <tr>\n",
       "      <td>1</td>\n",
       "      <td>standard oil co bp north america inc said plan form venture manage money market borrowing investment activities companies bp north america subsidiary british petroleum co plc bp also owns pct interest standard oil venture called bpstandard financial trading operated standard oil oversight joint ...</td>\n",
       "      <td>[standard, oil, co, bp, north, america, inc, said, plan, form, venture, manage, money, market, borrowing, investment, activities, companies, bp, north, america, subsidiary, british, petroleum, co, plc, bp, also, owns, pct, interest, standard, oil, venture, called, bpstandard, financial, trading,...</td>\n",
       "      <td>[(standard, oil), (oil, co), (co, bp), (bp, north), (north, america), (america, inc), (inc, said), (said, plan), (plan, form), (form, venture), (venture, manage), (manage, money), (money, market), (market, borrowing), (borrowing, investment), (investment, activities), (activities, companies), (c...</td>\n",
       "    </tr>\n",
       "    <tr>\n",
       "      <td>2</td>\n",
       "      <td>texas commerce bancshares incs texas commerce bankhouston said filed application comptroller currency effort create largest banking network harris county bank said network would link banks billion dlrs assets billion dlrs deposits</td>\n",
       "      <td>[texas, commerce, bancshares, incs, texas, commerce, bankhouston, said, filed, application, comptroller, currency, effort, create, largest, banking, network, harris, county, bank, said, network, would, link, banks, billion, dlrs, assets, billion, dlrs, deposits]</td>\n",
       "      <td>[(texas, commerce), (commerce, bancshares), (bancshares, incs), (incs, texas), (texas, commerce), (commerce, bankhouston), (bankhouston, said), (said, filed), (filed, application), (application, comptroller), (comptroller, currency), (currency, effort), (effort, create), (create, largest), (larg...</td>\n",
       "    </tr>\n",
       "  </tbody>\n",
       "</table>\n",
       "</div>"
      ],
      "text/plain": [
       "                                                                                                                                                                                                                                                                                                     Norm_Body  \\\n",
       "0  showers continued throughout week bahia cocoa zone alleviating drought since early january improving prospects coming temporao although normal humidity levels restored comissaria smith said weekly review dry period means temporao late year arrivals week ended february bags kilos making cumulativ...   \n",
       "1  standard oil co bp north america inc said plan form venture manage money market borrowing investment activities companies bp north america subsidiary british petroleum co plc bp also owns pct interest standard oil venture called bpstandard financial trading operated standard oil oversight joint ...   \n",
       "2                                                                       texas commerce bancshares incs texas commerce bankhouston said filed application comptroller currency effort create largest banking network harris county bank said network would link banks billion dlrs assets billion dlrs deposits   \n",
       "\n",
       "                                                                                                                                                                                                                                                                                          norm_tokenized_sents  \\\n",
       "0  [showers, continued, throughout, week, bahia, cocoa, zone, alleviating, drought, since, early, january, improving, prospects, coming, temporao, although, normal, humidity, levels, restored, comissaria, smith, said, weekly, review, dry, period, means, temporao, late, year, arrivals, week, ended, ...   \n",
       "1  [standard, oil, co, bp, north, america, inc, said, plan, form, venture, manage, money, market, borrowing, investment, activities, companies, bp, north, america, subsidiary, british, petroleum, co, plc, bp, also, owns, pct, interest, standard, oil, venture, called, bpstandard, financial, trading,...   \n",
       "2                                       [texas, commerce, bancshares, incs, texas, commerce, bankhouston, said, filed, application, comptroller, currency, effort, create, largest, banking, network, harris, county, bank, said, network, would, link, banks, billion, dlrs, assets, billion, dlrs, deposits]   \n",
       "\n",
       "                                                                                                                                                                                                                                                                                                  Norm_Bigrams  \n",
       "0  [(showers, continued), (continued, throughout), (throughout, week), (week, bahia), (bahia, cocoa), (cocoa, zone), (zone, alleviating), (alleviating, drought), (drought, since), (since, early), (early, january), (january, improving), (improving, prospects), (prospects, coming), (coming, temporao)...  \n",
       "1  [(standard, oil), (oil, co), (co, bp), (bp, north), (north, america), (america, inc), (inc, said), (said, plan), (plan, form), (form, venture), (venture, manage), (manage, money), (money, market), (market, borrowing), (borrowing, investment), (investment, activities), (activities, companies), (c...  \n",
       "2  [(texas, commerce), (commerce, bancshares), (bancshares, incs), (incs, texas), (texas, commerce), (commerce, bankhouston), (bankhouston, said), (said, filed), (filed, application), (application, comptroller), (comptroller, currency), (currency, effort), (effort, create), (create, largest), (larg...  "
      ]
     },
     "execution_count": 29,
     "metadata": {},
     "output_type": "execute_result"
    }
   ],
   "source": [
    "df_corpora['norm_tokenized_sents'] = df_corpora.apply(lambda row: nltk.word_tokenize(row['Norm_Body']), axis=1)\n",
    "df_corpora['Norm_Bigrams']= df_corpora['norm_tokenized_sents'].apply(lambda row: list(nltk.ngrams(row, 2)))\n",
    "df_corpora[['Norm_Body','norm_tokenized_sents', 'Norm_Bigrams']].head(3)"
   ]
  },
  {
   "cell_type": "code",
   "execution_count": 30,
   "metadata": {},
   "outputs": [
    {
     "data": {
      "text/html": [
       "<div>\n",
       "<style scoped>\n",
       "    .dataframe tbody tr th:only-of-type {\n",
       "        vertical-align: middle;\n",
       "    }\n",
       "\n",
       "    .dataframe tbody tr th {\n",
       "        vertical-align: top;\n",
       "    }\n",
       "\n",
       "    .dataframe thead th {\n",
       "        text-align: right;\n",
       "    }\n",
       "</style>\n",
       "<table border=\"1\" class=\"dataframe\">\n",
       "  <thead>\n",
       "    <tr style=\"text-align: right;\">\n",
       "      <th></th>\n",
       "      <th>Norm_Bigram_count</th>\n",
       "      <th>Bigram_count</th>\n",
       "    </tr>\n",
       "  </thead>\n",
       "  <tbody>\n",
       "    <tr>\n",
       "      <td>0</td>\n",
       "      <td>270</td>\n",
       "      <td>526</td>\n",
       "    </tr>\n",
       "    <tr>\n",
       "      <td>1</td>\n",
       "      <td>44</td>\n",
       "      <td>78</td>\n",
       "    </tr>\n",
       "    <tr>\n",
       "      <td>2</td>\n",
       "      <td>30</td>\n",
       "      <td>54</td>\n",
       "    </tr>\n",
       "    <tr>\n",
       "      <td>3</td>\n",
       "      <td>262</td>\n",
       "      <td>510</td>\n",
       "    </tr>\n",
       "    <tr>\n",
       "      <td>4</td>\n",
       "      <td>80</td>\n",
       "      <td>156</td>\n",
       "    </tr>\n",
       "    <tr>\n",
       "      <td>...</td>\n",
       "      <td>...</td>\n",
       "      <td>...</td>\n",
       "    </tr>\n",
       "    <tr>\n",
       "      <td>19038</td>\n",
       "      <td>40</td>\n",
       "      <td>76</td>\n",
       "    </tr>\n",
       "    <tr>\n",
       "      <td>19039</td>\n",
       "      <td>191</td>\n",
       "      <td>372</td>\n",
       "    </tr>\n",
       "    <tr>\n",
       "      <td>19040</td>\n",
       "      <td>51</td>\n",
       "      <td>88</td>\n",
       "    </tr>\n",
       "    <tr>\n",
       "      <td>19041</td>\n",
       "      <td>114</td>\n",
       "      <td>211</td>\n",
       "    </tr>\n",
       "    <tr>\n",
       "      <td>19042</td>\n",
       "      <td>85</td>\n",
       "      <td>178</td>\n",
       "    </tr>\n",
       "  </tbody>\n",
       "</table>\n",
       "<p>19043 rows × 2 columns</p>\n",
       "</div>"
      ],
      "text/plain": [
       "       Norm_Bigram_count  Bigram_count\n",
       "0                    270           526\n",
       "1                     44            78\n",
       "2                     30            54\n",
       "3                    262           510\n",
       "4                     80           156\n",
       "...                  ...           ...\n",
       "19038                 40            76\n",
       "19039                191           372\n",
       "19040                 51            88\n",
       "19041                114           211\n",
       "19042                 85           178\n",
       "\n",
       "[19043 rows x 2 columns]"
      ]
     },
     "execution_count": 30,
     "metadata": {},
     "output_type": "execute_result"
    }
   ],
   "source": [
    "df_corpora['Norm_Bigram_count'] = df_corpora['Norm_Bigrams'].str.len()\n",
    "bigrams_df = df_corpora[['Norm_Bigram_count', 'Bigram_count']].reset_index(drop=True)\n",
    "bigrams_df"
   ]
  },
  {
   "cell_type": "code",
   "execution_count": 31,
   "metadata": {},
   "outputs": [
    {
     "data": {
      "image/png": "[encoded data removed]",
      "text/plain": [
       "<Figure size 1080x360 with 2 Axes>"
      ]
     },
     "metadata": {
      "needs_background": "light"
     },
     "output_type": "display_data"
    }
   ],
   "source": [
    "# Plots comparing bigrams\n",
    "\n",
    "fig, axs = plt.subplots(1, 2, tight_layout = False, figsize = (15,5))\n",
    "\n",
    "axs[0].hist(bigrams_df['Bigram_count'], color = 'blue', edgecolor = 'black', bins = int(180/5))\n",
    "axs[0].set_title('Qty Bigrams Per Article', fontsize = 'medium')\n",
    "axs[1].hist(bigrams_df['Norm_Bigram_count'], color = 'blue', edgecolor = 'black', bins = int(180/5))\n",
    "axs[1].set_title('Normalized Bigrams Per Article.',fontsize='medium')\n",
    "\n",
    "\n",
    "plt.show()"
   ]
  },
  {
   "cell_type": "code",
   "execution_count": 32,
   "metadata": {},
   "outputs": [],
   "source": [
    "# Create a bigrams list to count frequencies\n",
    "\n",
    "bigrams_list = df_corpora['Norm_Bigrams'].tolist()"
   ]
  },
  {
   "cell_type": "code",
   "execution_count": 33,
   "metadata": {},
   "outputs": [],
   "source": [
    "flat_bigrams_list = []\n",
    "for sublist in bigrams_list:\n",
    "    for item in sublist:\n",
    "        flat_bigrams_list.append(item)\n",
    "\n",
    "        \n",
    "# Dictionary to count frequencies\n",
    "bigram_freq = {}\n",
    "for raw_bigram in flat_bigrams_list:\n",
    "    if raw_bigram not in bigram_freq:\n",
    "        bigram_freq[raw_bigram] = 1 \n",
    "    bigram_freq[raw_bigram] += 1\n",
    "    \n",
    "#bigram_freq"
   ]
  },
  {
   "cell_type": "code",
   "execution_count": 34,
   "metadata": {},
   "outputs": [],
   "source": [
    "# If we want to see all the bigrams sorted, uncomment below.\n",
    "\n",
    "#{k: v for k, v in sorted(bigram_freq.items(), key=lambda item: item[1], reverse = True)}"
   ]
  },
  {
   "cell_type": "code",
   "execution_count": 35,
   "metadata": {},
   "outputs": [
    {
     "name": "stdout",
     "output_type": "stream",
     "text": [
      "Most repeated bigrams:\n",
      "Keys: Values\n",
      "('mln', 'dlrs')  : 7968  \n",
      "('mln', 'vs')  : 4009  \n",
      "('vs', 'mln')  : 3998  \n",
      "('billion', 'dlrs')  : 3587  \n",
      "('cts', 'vs')  : 3447  \n",
      "('company', 'said')  : 3203  \n",
      "('inc', 'said')  : 2478  \n",
      "('cts', 'net')  : 2261  \n",
      "('last', 'year')  : 2034  \n",
      "('vs', 'cts')  : 2017  \n",
      "('corp', 'said')  : 1952  \n",
      "('vs', 'loss')  : 1780  \n",
      "('net', 'vs')  : 1637  \n",
      "('revs', 'mln')  : 1590  \n",
      "('shr', 'cts')  : 1459  \n",
      "('per', 'share')  : 1410  \n",
      "('sources', 'said')  : 1285  \n",
      "('also', 'said')  : 1229  \n",
      "('dlrs', 'vs')  : 1195  \n",
      "('mln', 'dlr')  : 1133  \n"
     ]
    }
   ],
   "source": [
    "# To just see the 20 highest values. \n",
    "from collections import Counter \n",
    "  \n",
    "k = Counter(bigram_freq) \n",
    "  \n",
    "# Finding 3 highest values \n",
    "most_common_bigrams = k.most_common(20)  \n",
    "  \n",
    "print(\"Most repeated bigrams:\") \n",
    "print(\"Keys: Values\") \n",
    "  \n",
    "for i in most_common_bigrams: \n",
    "    print(i[0],\" :\",i[1],\" \")"
   ]
  },
  {
   "cell_type": "markdown",
   "metadata": {},
   "source": [
    "It is visible that the most common words are still financial related and most of them are shortened. \n",
    "\n",
    "I am still missing one point of normalization at this point. Lemmatizing or Stemming. Both of these terms refer to getting the root of the word and counting all similar words the same way. For example, continued and continue share a very close meaning. "
   ]
  },
  {
   "cell_type": "markdown",
   "metadata": {},
   "source": [
    "## Lemmatization and Stemming"
   ]
  },
  {
   "cell_type": "code",
   "execution_count": 36,
   "metadata": {},
   "outputs": [],
   "source": [
    "lemmatizer = nltk.stem.WordNetLemmatizer()\n",
    "wordnet_lemmatizer = WordNetLemmatizer()\n",
    "\n",
    "def nltk_tag_to_wordnet_tag(nltk_tag):\n",
    "    if nltk_tag.startswith('J'):\n",
    "        return wordnet.ADJ\n",
    "    elif nltk_tag.startswith('V'):\n",
    "        return wordnet.VERB\n",
    "    elif nltk_tag.startswith('N'):\n",
    "        return wordnet.NOUN\n",
    "    elif nltk_tag.startswith('R'):\n",
    "        return wordnet.ADV\n",
    "    else:\n",
    "        return None\n",
    "\n",
    "def lemmatize_sentence(sentence):\n",
    "    #tokenize the sentence and find the POS tag for each token\n",
    "    nltk_tagged = nltk.pos_tag(nltk.word_tokenize(sentence))\n",
    "    #tuple of (token, wordnet_tag)\n",
    "    wordnet_tagged = map(lambda x: (x[0], nltk_tag_to_wordnet_tag(x[1])), nltk_tagged)\n",
    "    lemmatized_sentence = []\n",
    "    for word, tag in wordnet_tagged:\n",
    "        if tag is None:\n",
    "            #if there is no available tag, append the token as is\n",
    "            lemmatized_sentence.append(word)\n",
    "        else:\n",
    "            #else use the tag to lemmatize the token\n",
    "            lemmatized_sentence.append(lemmatizer.lemmatize(word, tag))\n",
    "    return \" \".join(lemmatized_sentence)"
   ]
  },
  {
   "cell_type": "code",
   "execution_count": 37,
   "metadata": {},
   "outputs": [],
   "source": [
    "df_corpora['Lemmatize'] = df_corpora['Norm_Body'].apply(lambda x: lemmatize_sentence(x))\n",
    "#print(df_corpora['Lemmatize'].head())"
   ]
  },
  {
   "cell_type": "code",
   "execution_count": 38,
   "metadata": {},
   "outputs": [
    {
     "data": {
      "text/html": [
       "<div>\n",
       "<style scoped>\n",
       "    .dataframe tbody tr th:only-of-type {\n",
       "        vertical-align: middle;\n",
       "    }\n",
       "\n",
       "    .dataframe tbody tr th {\n",
       "        vertical-align: top;\n",
       "    }\n",
       "\n",
       "    .dataframe thead th {\n",
       "        text-align: right;\n",
       "    }\n",
       "</style>\n",
       "<table border=\"1\" class=\"dataframe\">\n",
       "  <thead>\n",
       "    <tr style=\"text-align: right;\">\n",
       "      <th></th>\n",
       "      <th>Norm_Body</th>\n",
       "      <th>Lemmatize</th>\n",
       "      <th>Norm_Bigrams</th>\n",
       "      <th>Norm_Lemm_Bigrams</th>\n",
       "    </tr>\n",
       "  </thead>\n",
       "  <tbody>\n",
       "    <tr>\n",
       "      <td>0</td>\n",
       "      <td>showers continued throughout week bahia cocoa zone alleviating drought since early january improving prospects coming temporao although normal humidity levels restored comissaria smith said weekly review dry period means temporao late year arrivals week ended february bags kilos making cumulativ...</td>\n",
       "      <td>shower continue throughout week bahia cocoa zone alleviate drought since early january improve prospect come temporao although normal humidity level restore comissaria smith say weekly review dry period mean temporao late year arrival week end february bag kilos make cumulative total season mln ...</td>\n",
       "      <td>[(showers, continued), (continued, throughout), (throughout, week), (week, bahia), (bahia, cocoa), (cocoa, zone), (zone, alleviating), (alleviating, drought), (drought, since), (since, early), (early, january), (january, improving), (improving, prospects), (prospects, coming), (coming, temporao)...</td>\n",
       "      <td>[(shower, continue), (continue, throughout), (throughout, week), (week, bahia), (bahia, cocoa), (cocoa, zone), (zone, alleviate), (alleviate, drought), (drought, since), (since, early), (early, january), (january, improve), (improve, prospect), (prospect, come), (come, temporao), (temporao, alth...</td>\n",
       "    </tr>\n",
       "    <tr>\n",
       "      <td>1</td>\n",
       "      <td>standard oil co bp north america inc said plan form venture manage money market borrowing investment activities companies bp north america subsidiary british petroleum co plc bp also owns pct interest standard oil venture called bpstandard financial trading operated standard oil oversight joint ...</td>\n",
       "      <td>standard oil co bp north america inc say plan form venture manage money market borrow investment activity company bp north america subsidiary british petroleum co plc bp also own pct interest standard oil venture call bpstandard financial trading operate standard oil oversight joint management c...</td>\n",
       "      <td>[(standard, oil), (oil, co), (co, bp), (bp, north), (north, america), (america, inc), (inc, said), (said, plan), (plan, form), (form, venture), (venture, manage), (manage, money), (money, market), (market, borrowing), (borrowing, investment), (investment, activities), (activities, companies), (c...</td>\n",
       "      <td>[(standard, oil), (oil, co), (co, bp), (bp, north), (north, america), (america, inc), (inc, say), (say, plan), (plan, form), (form, venture), (venture, manage), (manage, money), (money, market), (market, borrow), (borrow, investment), (investment, activity), (activity, company), (company, bp), (...</td>\n",
       "    </tr>\n",
       "    <tr>\n",
       "      <td>2</td>\n",
       "      <td>texas commerce bancshares incs texas commerce bankhouston said filed application comptroller currency effort create largest banking network harris county bank said network would link banks billion dlrs assets billion dlrs deposits</td>\n",
       "      <td>texas commerce bancshares incs texas commerce bankhouston say file application comptroller currency effort create large banking network harris county bank say network would link bank billion dlrs asset billion dlrs deposit</td>\n",
       "      <td>[(texas, commerce), (commerce, bancshares), (bancshares, incs), (incs, texas), (texas, commerce), (commerce, bankhouston), (bankhouston, said), (said, filed), (filed, application), (application, comptroller), (comptroller, currency), (currency, effort), (effort, create), (create, largest), (larg...</td>\n",
       "      <td>[(texas, commerce), (commerce, bancshares), (bancshares, incs), (incs, texas), (texas, commerce), (commerce, bankhouston), (bankhouston, say), (say, file), (file, application), (application, comptroller), (comptroller, currency), (currency, effort), (effort, create), (create, large), (large, ban...</td>\n",
       "    </tr>\n",
       "  </tbody>\n",
       "</table>\n",
       "</div>"
      ],
      "text/plain": [
       "                                                                                                                                                                                                                                                                                                     Norm_Body  \\\n",
       "0  showers continued throughout week bahia cocoa zone alleviating drought since early january improving prospects coming temporao although normal humidity levels restored comissaria smith said weekly review dry period means temporao late year arrivals week ended february bags kilos making cumulativ...   \n",
       "1  standard oil co bp north america inc said plan form venture manage money market borrowing investment activities companies bp north america subsidiary british petroleum co plc bp also owns pct interest standard oil venture called bpstandard financial trading operated standard oil oversight joint ...   \n",
       "2                                                                       texas commerce bancshares incs texas commerce bankhouston said filed application comptroller currency effort create largest banking network harris county bank said network would link banks billion dlrs assets billion dlrs deposits   \n",
       "\n",
       "                                                                                                                                                                                                                                                                                                     Lemmatize  \\\n",
       "0  shower continue throughout week bahia cocoa zone alleviate drought since early january improve prospect come temporao although normal humidity level restore comissaria smith say weekly review dry period mean temporao late year arrival week end february bag kilos make cumulative total season mln ...   \n",
       "1  standard oil co bp north america inc say plan form venture manage money market borrow investment activity company bp north america subsidiary british petroleum co plc bp also own pct interest standard oil venture call bpstandard financial trading operate standard oil oversight joint management c...   \n",
       "2                                                                               texas commerce bancshares incs texas commerce bankhouston say file application comptroller currency effort create large banking network harris county bank say network would link bank billion dlrs asset billion dlrs deposit   \n",
       "\n",
       "                                                                                                                                                                                                                                                                                                  Norm_Bigrams  \\\n",
       "0  [(showers, continued), (continued, throughout), (throughout, week), (week, bahia), (bahia, cocoa), (cocoa, zone), (zone, alleviating), (alleviating, drought), (drought, since), (since, early), (early, january), (january, improving), (improving, prospects), (prospects, coming), (coming, temporao)...   \n",
       "1  [(standard, oil), (oil, co), (co, bp), (bp, north), (north, america), (america, inc), (inc, said), (said, plan), (plan, form), (form, venture), (venture, manage), (manage, money), (money, market), (market, borrowing), (borrowing, investment), (investment, activities), (activities, companies), (c...   \n",
       "2  [(texas, commerce), (commerce, bancshares), (bancshares, incs), (incs, texas), (texas, commerce), (commerce, bankhouston), (bankhouston, said), (said, filed), (filed, application), (application, comptroller), (comptroller, currency), (currency, effort), (effort, create), (create, largest), (larg...   \n",
       "\n",
       "                                                                                                                                                                                                                                                                                             Norm_Lemm_Bigrams  \n",
       "0  [(shower, continue), (continue, throughout), (throughout, week), (week, bahia), (bahia, cocoa), (cocoa, zone), (zone, alleviate), (alleviate, drought), (drought, since), (since, early), (early, january), (january, improve), (improve, prospect), (prospect, come), (come, temporao), (temporao, alth...  \n",
       "1  [(standard, oil), (oil, co), (co, bp), (bp, north), (north, america), (america, inc), (inc, say), (say, plan), (plan, form), (form, venture), (venture, manage), (manage, money), (money, market), (market, borrow), (borrow, investment), (investment, activity), (activity, company), (company, bp), (...  \n",
       "2  [(texas, commerce), (commerce, bancshares), (bancshares, incs), (incs, texas), (texas, commerce), (commerce, bankhouston), (bankhouston, say), (say, file), (file, application), (application, comptroller), (comptroller, currency), (currency, effort), (effort, create), (create, large), (large, ban...  "
      ]
     },
     "execution_count": 38,
     "metadata": {},
     "output_type": "execute_result"
    }
   ],
   "source": [
    "df_corpora['norm_lemm_token_sents'] = df_corpora.apply(lambda row: nltk.word_tokenize(row['Lemmatize']), axis=1)\n",
    "df_corpora['Norm_Lemm_Bigrams']= df_corpora['norm_lemm_token_sents'].apply(lambda row: list(nltk.ngrams(row, 2)))\n",
    "df_corpora[['Norm_Body','Lemmatize', 'Norm_Bigrams', 'Norm_Lemm_Bigrams']].head(3)"
   ]
  },
  {
   "cell_type": "code",
   "execution_count": 39,
   "metadata": {},
   "outputs": [
    {
     "name": "stdout",
     "output_type": "stream",
     "text": [
      "Most repeated bigrams:\n",
      "Keys: Values\n",
      "('mln', 'dlrs')  : 7968  \n",
      "('billion', 'dlrs')  : 3590  \n",
      "('ct', 'vs')  : 3385  \n",
      "('company', 'say')  : 3348  \n",
      "('v', 'mln')  : 3074  \n",
      "('mln', 'v')  : 2972  \n",
      "('inc', 'say')  : 2481  \n",
      "('last', 'year')  : 2401  \n",
      "('ct', 'net')  : 2310  \n",
      "('corp', 'say')  : 1954  \n",
      "('vs', 'ct')  : 1943  \n",
      "('rev', 'mln')  : 1656  \n",
      "('net', 'v')  : 1547  \n",
      "('official', 'say')  : 1530  \n",
      "('shr', 'ct')  : 1454  \n",
      "('source', 'say')  : 1454  \n",
      "('per', 'share')  : 1412  \n",
      "('also', 'say')  : 1232  \n",
      "('new', 'york')  : 1149  \n",
      "('mln', 'dlr')  : 1133  \n"
     ]
    }
   ],
   "source": [
    "# Create a bigrams list to count frequencies\n",
    "\n",
    "lemm_bigrams_list = df_corpora['Norm_Lemm_Bigrams'].tolist()\n",
    "\n",
    "\n",
    "flat_lemm_bigrams_list = []\n",
    "for sublist in lemm_bigrams_list:\n",
    "    for item in sublist:\n",
    "        flat_lemm_bigrams_list.append(item)\n",
    "        \n",
    "        \n",
    "# Dictionary for counting freq\n",
    "lemm_bigram_freq = {}\n",
    "for raw_bigram in flat_lemm_bigrams_list:\n",
    "    if raw_bigram not in lemm_bigram_freq:\n",
    "        lemm_bigram_freq[raw_bigram] = 0 \n",
    "    lemm_bigram_freq[raw_bigram] += 1\n",
    "\n",
    "lk = Counter(lemm_bigram_freq) \n",
    "  \n",
    "# Finding 3 highest values \n",
    "most_common_lemm_bigrams = lk.most_common(20)  \n",
    "  \n",
    "print(\"Most repeated bigrams:\") \n",
    "print(\"Keys: Values\") \n",
    "  \n",
    "for i in most_common_lemm_bigrams: \n",
    "    print(i[0],\" :\",i[1],\" \")"
   ]
  },
  {
   "cell_type": "code",
   "execution_count": 40,
   "metadata": {},
   "outputs": [
    {
     "name": "stdout",
     "output_type": "stream",
     "text": [
      "('mln', 'dlrs')  : 7968  \n",
      "('mln', 'vs')  : 4009  \n",
      "('vs', 'mln')  : 3998  \n",
      "('billion', 'dlrs')  : 3587  \n",
      "('cts', 'vs')  : 3447  \n",
      "('company', 'said')  : 3203  \n",
      "('inc', 'said')  : 2478  \n",
      "('cts', 'net')  : 2261  \n",
      "('last', 'year')  : 2034  \n",
      "('vs', 'cts')  : 2017  \n",
      "('corp', 'said')  : 1952  \n",
      "('vs', 'loss')  : 1780  \n",
      "('net', 'vs')  : 1637  \n",
      "('revs', 'mln')  : 1590  \n",
      "('shr', 'cts')  : 1459  \n",
      "('per', 'share')  : 1410  \n",
      "('sources', 'said')  : 1285  \n",
      "('also', 'said')  : 1229  \n",
      "('dlrs', 'vs')  : 1195  \n",
      "('mln', 'dlr')  : 1133  \n"
     ]
    }
   ],
   "source": [
    "# To compare prev lemmatizing\n",
    "for i in most_common_bigrams: \n",
    "    print(i[0],\" :\",i[1],\" \")"
   ]
  },
  {
   "cell_type": "markdown",
   "metadata": {},
   "source": [
    "I chose to do lemmatization above. However, the same process would follow if we wanted to do stemming."
   ]
  },
  {
   "cell_type": "markdown",
   "metadata": {},
   "source": [
    "# TF IDF Semantics"
   ]
  },
  {
   "cell_type": "code",
   "execution_count": 126,
   "metadata": {},
   "outputs": [
    {
     "data": {
      "text/html": [
       "<div>\n",
       "<style scoped>\n",
       "    .dataframe tbody tr th:only-of-type {\n",
       "        vertical-align: middle;\n",
       "    }\n",
       "\n",
       "    .dataframe tbody tr th {\n",
       "        vertical-align: top;\n",
       "    }\n",
       "\n",
       "    .dataframe thead th {\n",
       "        text-align: right;\n",
       "    }\n",
       "</style>\n",
       "<table border=\"1\" class=\"dataframe\">\n",
       "  <thead>\n",
       "    <tr style=\"text-align: right;\">\n",
       "      <th></th>\n",
       "      <th>Lemmatize</th>\n",
       "    </tr>\n",
       "  </thead>\n",
       "  <tbody>\n",
       "    <tr>\n",
       "      <td>0</td>\n",
       "      <td>shower continue throughout week bahia cocoa zone alleviate drought since early january improve prospect come temporao although normal humidity level restore comissaria smith say weekly review dry period mean temporao late year arrival week end february bag kilos make cumulative total season mln ...</td>\n",
       "    </tr>\n",
       "  </tbody>\n",
       "</table>\n",
       "</div>"
      ],
      "text/plain": [
       "                                                                                                                                                                                                                                                                                                     Lemmatize\n",
       "0  shower continue throughout week bahia cocoa zone alleviate drought since early january improve prospect come temporao although normal humidity level restore comissaria smith say weekly review dry period mean temporao late year arrival week end february bag kilos make cumulative total season mln ..."
      ]
     },
     "execution_count": 126,
     "metadata": {},
     "output_type": "execute_result"
    }
   ],
   "source": [
    "df_corpora[['Lemmatize']].head(1)"
   ]
  },
  {
   "cell_type": "code",
   "execution_count": 132,
   "metadata": {},
   "outputs": [
    {
     "data": {
      "text/html": [
       "<div>\n",
       "<style scoped>\n",
       "    .dataframe tbody tr th:only-of-type {\n",
       "        vertical-align: middle;\n",
       "    }\n",
       "\n",
       "    .dataframe tbody tr th {\n",
       "        vertical-align: top;\n",
       "    }\n",
       "\n",
       "    .dataframe thead th {\n",
       "        text-align: right;\n",
       "    }\n",
       "</style>\n",
       "<table border=\"1\" class=\"dataframe\">\n",
       "  <thead>\n",
       "    <tr style=\"text-align: right;\">\n",
       "      <th></th>\n",
       "      <th>Lemmatize</th>\n",
       "    </tr>\n",
       "  </thead>\n",
       "  <tbody>\n",
       "    <tr>\n",
       "      <td>0</td>\n",
       "      <td>shower continue throughout week bahia cocoa zone alleviate drought since early january improve prospect come temporao although normal humidity level restore comissaria smith say weekly review dry period mean temporao late year arrival week end february bag kilos make cumulative total season mln ...</td>\n",
       "    </tr>\n",
       "  </tbody>\n",
       "</table>\n",
       "</div>"
      ],
      "text/plain": [
       "                                                                                                                                                                                                                                                                                                     Lemmatize\n",
       "0  shower continue throughout week bahia cocoa zone alleviate drought since early january improve prospect come temporao although normal humidity level restore comissaria smith say weekly review dry period mean temporao late year arrival week end february bag kilos make cumulative total season mln ..."
      ]
     },
     "execution_count": 132,
     "metadata": {},
     "output_type": "execute_result"
    }
   ],
   "source": [
    "DF_lemmatize = df_corpora[['Lemmatize']]\n",
    "DF_lemmatize.head(1)"
   ]
  },
  {
   "cell_type": "code",
   "execution_count": 133,
   "metadata": {},
   "outputs": [
    {
     "name": "stderr",
     "output_type": "stream",
     "text": [
      "/Users/seiryu8808/opt/anaconda3/lib/python3.7/site-packages/ipykernel_launcher.py:1: SettingWithCopyWarning: \n",
      "A value is trying to be set on a copy of a slice from a DataFrame.\n",
      "Try using .loc[row_indexer,col_indexer] = value instead\n",
      "\n",
      "See the caveats in the documentation: http://pandas.pydata.org/pandas-docs/stable/user_guide/indexing.html#returning-a-view-versus-a-copy\n",
      "  \"\"\"Entry point for launching an IPython kernel.\n"
     ]
    },
    {
     "data": {
      "text/html": [
       "<div>\n",
       "<style scoped>\n",
       "    .dataframe tbody tr th:only-of-type {\n",
       "        vertical-align: middle;\n",
       "    }\n",
       "\n",
       "    .dataframe tbody tr th {\n",
       "        vertical-align: top;\n",
       "    }\n",
       "\n",
       "    .dataframe thead th {\n",
       "        text-align: right;\n",
       "    }\n",
       "</style>\n",
       "<table border=\"1\" class=\"dataframe\">\n",
       "  <thead>\n",
       "    <tr style=\"text-align: right;\">\n",
       "      <th></th>\n",
       "      <th>Lemmatize</th>\n",
       "      <th>Lemmatized2</th>\n",
       "    </tr>\n",
       "  </thead>\n",
       "  <tbody>\n",
       "    <tr>\n",
       "      <td>0</td>\n",
       "      <td>shower continue throughout week bahia cocoa zone alleviate drought since early january improve prospect come temporao although normal humidity level restore comissaria smith say weekly review dry period mean temporao late year arrival week end february bag kilos make cumulative total season mln ...</td>\n",
       "      <td>[shower, continue, throughout, week, bahia, cocoa, zone, alleviate, drought, since, early, january, improve, prospect, come, temporao, although, normal, humidity, level, restore, comissaria, smith, say, weekly, review, dry, period, mean, temporao, late, year, arrival, week, end, february, bag, k...</td>\n",
       "    </tr>\n",
       "  </tbody>\n",
       "</table>\n",
       "</div>"
      ],
      "text/plain": [
       "                                                                                                                                                                                                                                                                                                     Lemmatize  \\\n",
       "0  shower continue throughout week bahia cocoa zone alleviate drought since early january improve prospect come temporao although normal humidity level restore comissaria smith say weekly review dry period mean temporao late year arrival week end february bag kilos make cumulative total season mln ...   \n",
       "\n",
       "                                                                                                                                                                                                                                                                                                   Lemmatized2  \n",
       "0  [shower, continue, throughout, week, bahia, cocoa, zone, alleviate, drought, since, early, january, improve, prospect, come, temporao, although, normal, humidity, level, restore, comissaria, smith, say, weekly, review, dry, period, mean, temporao, late, year, arrival, week, end, february, bag, k...  "
      ]
     },
     "execution_count": 133,
     "metadata": {},
     "output_type": "execute_result"
    }
   ],
   "source": [
    "DF_lemmatize['Lemmatized2'] = DF_lemmatize['Lemmatize'].str.split(\" \")\n",
    "DF_lemmatize.head(1)"
   ]
  },
  {
   "cell_type": "code",
   "execution_count": 139,
   "metadata": {},
   "outputs": [
    {
     "data": {
      "text/html": [
       "<div>\n",
       "<style scoped>\n",
       "    .dataframe tbody tr th:only-of-type {\n",
       "        vertical-align: middle;\n",
       "    }\n",
       "\n",
       "    .dataframe tbody tr th {\n",
       "        vertical-align: top;\n",
       "    }\n",
       "\n",
       "    .dataframe thead th {\n",
       "        text-align: right;\n",
       "    }\n",
       "</style>\n",
       "<table border=\"1\" class=\"dataframe\">\n",
       "  <thead>\n",
       "    <tr style=\"text-align: right;\">\n",
       "      <th></th>\n",
       "      <th>Document</th>\n",
       "      <th>Word</th>\n",
       "    </tr>\n",
       "  </thead>\n",
       "  <tbody>\n",
       "    <tr>\n",
       "      <td>0</td>\n",
       "      <td>1</td>\n",
       "      <td>shower</td>\n",
       "    </tr>\n",
       "    <tr>\n",
       "      <td>1</td>\n",
       "      <td>1</td>\n",
       "      <td>continue</td>\n",
       "    </tr>\n",
       "    <tr>\n",
       "      <td>2</td>\n",
       "      <td>1</td>\n",
       "      <td>throughout</td>\n",
       "    </tr>\n",
       "    <tr>\n",
       "      <td>3</td>\n",
       "      <td>1</td>\n",
       "      <td>week</td>\n",
       "    </tr>\n",
       "    <tr>\n",
       "      <td>4</td>\n",
       "      <td>1</td>\n",
       "      <td>bahia</td>\n",
       "    </tr>\n",
       "  </tbody>\n",
       "</table>\n",
       "</div>"
      ],
      "text/plain": [
       "   Document        Word\n",
       "0         1      shower\n",
       "1         1    continue\n",
       "2         1  throughout\n",
       "3         1        week\n",
       "4         1       bahia"
      ]
     },
     "execution_count": 139,
     "metadata": {},
     "output_type": "execute_result"
    }
   ],
   "source": [
    "rows = list()\n",
    "for num, row in enumerate(DF_lemmatize[['Lemmatized2']].iterrows()):\n",
    "    r = row[1]\n",
    "    for word in r.Lemmatized2:\n",
    "        rows.append((num+1, word))\n",
    "\n",
    "words = pd.DataFrame(rows, columns = [\"Document\", \"Word\"])\n",
    "words.head()"
   ]
  },
  {
   "cell_type": "code",
   "execution_count": 145,
   "metadata": {},
   "outputs": [
    {
     "data": {
      "text/html": [
       "<div>\n",
       "<style scoped>\n",
       "    .dataframe tbody tr th:only-of-type {\n",
       "        vertical-align: middle;\n",
       "    }\n",
       "\n",
       "    .dataframe tbody tr th {\n",
       "        vertical-align: top;\n",
       "    }\n",
       "\n",
       "    .dataframe thead th {\n",
       "        text-align: right;\n",
       "    }\n",
       "</style>\n",
       "<table border=\"1\" class=\"dataframe\">\n",
       "  <thead>\n",
       "    <tr style=\"text-align: right;\">\n",
       "      <th></th>\n",
       "      <th></th>\n",
       "      <th>n_w</th>\n",
       "    </tr>\n",
       "    <tr>\n",
       "      <th>Document</th>\n",
       "      <th>Word</th>\n",
       "      <th></th>\n",
       "    </tr>\n",
       "  </thead>\n",
       "  <tbody>\n",
       "    <tr>\n",
       "      <td rowspan=\"5\" valign=\"top\">1</td>\n",
       "      <td>dlrs</td>\n",
       "      <td>14</td>\n",
       "    </tr>\n",
       "    <tr>\n",
       "      <td>new</td>\n",
       "      <td>9</td>\n",
       "    </tr>\n",
       "    <tr>\n",
       "      <td>york</td>\n",
       "      <td>8</td>\n",
       "    </tr>\n",
       "    <tr>\n",
       "      <td>sale</td>\n",
       "      <td>7</td>\n",
       "    </tr>\n",
       "    <tr>\n",
       "      <td>time</td>\n",
       "      <td>7</td>\n",
       "    </tr>\n",
       "  </tbody>\n",
       "</table>\n",
       "</div>"
      ],
      "text/plain": [
       "               n_w\n",
       "Document Word     \n",
       "1        dlrs   14\n",
       "         new     9\n",
       "         york    8\n",
       "         sale    7\n",
       "         time    7"
      ]
     },
     "execution_count": 145,
     "metadata": {},
     "output_type": "execute_result"
    }
   ],
   "source": [
    "# Terms per document\n",
    "counts = words.groupby('Document')\\\n",
    "              .Word.value_counts()\\\n",
    "              .to_frame()\\\n",
    "              .rename(columns={'Word':'n_w'})\n",
    "counts.head(5)"
   ]
  },
  {
   "cell_type": "code",
   "execution_count": 146,
   "metadata": {},
   "outputs": [
    {
     "data": {
      "text/html": [
       "<div>\n",
       "<style scoped>\n",
       "    .dataframe tbody tr th:only-of-type {\n",
       "        vertical-align: middle;\n",
       "    }\n",
       "\n",
       "    .dataframe tbody tr th {\n",
       "        vertical-align: top;\n",
       "    }\n",
       "\n",
       "    .dataframe thead th {\n",
       "        text-align: right;\n",
       "    }\n",
       "</style>\n",
       "<table border=\"1\" class=\"dataframe\">\n",
       "  <thead>\n",
       "    <tr style=\"text-align: right;\">\n",
       "      <th></th>\n",
       "      <th>n_d</th>\n",
       "    </tr>\n",
       "    <tr>\n",
       "      <th>Document</th>\n",
       "      <th></th>\n",
       "    </tr>\n",
       "  </thead>\n",
       "  <tbody>\n",
       "    <tr>\n",
       "      <td>1</td>\n",
       "      <td>271</td>\n",
       "    </tr>\n",
       "    <tr>\n",
       "      <td>2</td>\n",
       "      <td>45</td>\n",
       "    </tr>\n",
       "    <tr>\n",
       "      <td>3</td>\n",
       "      <td>31</td>\n",
       "    </tr>\n",
       "    <tr>\n",
       "      <td>4</td>\n",
       "      <td>263</td>\n",
       "    </tr>\n",
       "    <tr>\n",
       "      <td>5</td>\n",
       "      <td>81</td>\n",
       "    </tr>\n",
       "    <tr>\n",
       "      <td>...</td>\n",
       "      <td>...</td>\n",
       "    </tr>\n",
       "    <tr>\n",
       "      <td>19039</td>\n",
       "      <td>41</td>\n",
       "    </tr>\n",
       "    <tr>\n",
       "      <td>19040</td>\n",
       "      <td>192</td>\n",
       "    </tr>\n",
       "    <tr>\n",
       "      <td>19041</td>\n",
       "      <td>52</td>\n",
       "    </tr>\n",
       "    <tr>\n",
       "      <td>19042</td>\n",
       "      <td>115</td>\n",
       "    </tr>\n",
       "    <tr>\n",
       "      <td>19043</td>\n",
       "      <td>86</td>\n",
       "    </tr>\n",
       "  </tbody>\n",
       "</table>\n",
       "<p>19043 rows × 1 columns</p>\n",
       "</div>"
      ],
      "text/plain": [
       "          n_d\n",
       "Document     \n",
       "1         271\n",
       "2          45\n",
       "3          31\n",
       "4         263\n",
       "5          81\n",
       "...       ...\n",
       "19039      41\n",
       "19040     192\n",
       "19041      52\n",
       "19042     115\n",
       "19043      86\n",
       "\n",
       "[19043 rows x 1 columns]"
      ]
     },
     "execution_count": 146,
     "metadata": {},
     "output_type": "execute_result"
    }
   ],
   "source": [
    "word_sum = counts.groupby(level=0)\\\n",
    "    .sum()\\\n",
    "    .rename(columns={'n_w': 'n_d'})\n",
    "word_sum"
   ]
  },
  {
   "cell_type": "code",
   "execution_count": 147,
   "metadata": {},
   "outputs": [
    {
     "data": {
      "text/html": [
       "<div>\n",
       "<style scoped>\n",
       "    .dataframe tbody tr th:only-of-type {\n",
       "        vertical-align: middle;\n",
       "    }\n",
       "\n",
       "    .dataframe tbody tr th {\n",
       "        vertical-align: top;\n",
       "    }\n",
       "\n",
       "    .dataframe thead th {\n",
       "        text-align: right;\n",
       "    }\n",
       "</style>\n",
       "<table border=\"1\" class=\"dataframe\">\n",
       "  <thead>\n",
       "    <tr style=\"text-align: right;\">\n",
       "      <th></th>\n",
       "      <th></th>\n",
       "      <th>n_w</th>\n",
       "      <th>n_d</th>\n",
       "      <th>tf</th>\n",
       "    </tr>\n",
       "    <tr>\n",
       "      <th>Document</th>\n",
       "      <th>Word</th>\n",
       "      <th></th>\n",
       "      <th></th>\n",
       "      <th></th>\n",
       "    </tr>\n",
       "  </thead>\n",
       "  <tbody>\n",
       "    <tr>\n",
       "      <td rowspan=\"5\" valign=\"top\">1</td>\n",
       "      <td>dlrs</td>\n",
       "      <td>14</td>\n",
       "      <td>271</td>\n",
       "      <td>0.051661</td>\n",
       "    </tr>\n",
       "    <tr>\n",
       "      <td>new</td>\n",
       "      <td>9</td>\n",
       "      <td>271</td>\n",
       "      <td>0.033210</td>\n",
       "    </tr>\n",
       "    <tr>\n",
       "      <td>york</td>\n",
       "      <td>8</td>\n",
       "      <td>271</td>\n",
       "      <td>0.029520</td>\n",
       "    </tr>\n",
       "    <tr>\n",
       "      <td>sale</td>\n",
       "      <td>7</td>\n",
       "      <td>271</td>\n",
       "      <td>0.025830</td>\n",
       "    </tr>\n",
       "    <tr>\n",
       "      <td>time</td>\n",
       "      <td>7</td>\n",
       "      <td>271</td>\n",
       "      <td>0.025830</td>\n",
       "    </tr>\n",
       "  </tbody>\n",
       "</table>\n",
       "</div>"
      ],
      "text/plain": [
       "               n_w  n_d        tf\n",
       "Document Word                    \n",
       "1        dlrs   14  271  0.051661\n",
       "         new     9  271  0.033210\n",
       "         york    8  271  0.029520\n",
       "         sale    7  271  0.025830\n",
       "         time    7  271  0.025830"
      ]
     },
     "execution_count": 147,
     "metadata": {},
     "output_type": "execute_result"
    }
   ],
   "source": [
    "tf = counts.join(word_sum)\n",
    "\n",
    "tf['tf'] = tf.n_w/tf.n_d\n",
    "\n",
    "tf.head()"
   ]
  },
  {
   "cell_type": "code",
   "execution_count": 148,
   "metadata": {},
   "outputs": [
    {
     "data": {
      "text/plain": [
       "19043"
      ]
     },
     "execution_count": 148,
     "metadata": {},
     "output_type": "execute_result"
    }
   ],
   "source": [
    "c_d = words.Document.nunique()\n",
    "c_d"
   ]
  },
  {
   "cell_type": "code",
   "execution_count": 150,
   "metadata": {},
   "outputs": [],
   "source": [
    "#words"
   ]
  },
  {
   "cell_type": "code",
   "execution_count": 151,
   "metadata": {},
   "outputs": [
    {
     "data": {
      "text/html": [
       "<div>\n",
       "<style scoped>\n",
       "    .dataframe tbody tr th:only-of-type {\n",
       "        vertical-align: middle;\n",
       "    }\n",
       "\n",
       "    .dataframe tbody tr th {\n",
       "        vertical-align: top;\n",
       "    }\n",
       "\n",
       "    .dataframe thead th {\n",
       "        text-align: right;\n",
       "    }\n",
       "</style>\n",
       "<table border=\"1\" class=\"dataframe\">\n",
       "  <thead>\n",
       "    <tr style=\"text-align: right;\">\n",
       "      <th></th>\n",
       "      <th>i_d</th>\n",
       "    </tr>\n",
       "    <tr>\n",
       "      <th>Word</th>\n",
       "      <th></th>\n",
       "    </tr>\n",
       "  </thead>\n",
       "  <tbody>\n",
       "    <tr>\n",
       "      <td></td>\n",
       "      <td>1</td>\n",
       "    </tr>\n",
       "    <tr>\n",
       "      <td>messy</td>\n",
       "      <td>1</td>\n",
       "    </tr>\n",
       "    <tr>\n",
       "      <td>messidor</td>\n",
       "      <td>1</td>\n",
       "    </tr>\n",
       "    <tr>\n",
       "      <td>messel</td>\n",
       "      <td>1</td>\n",
       "    </tr>\n",
       "    <tr>\n",
       "      <td>mesmerize</td>\n",
       "      <td>1</td>\n",
       "    </tr>\n",
       "  </tbody>\n",
       "</table>\n",
       "</div>"
      ],
      "text/plain": [
       "           i_d\n",
       "Word          \n",
       "             1\n",
       "messy        1\n",
       "messidor     1\n",
       "messel       1\n",
       "mesmerize    1"
      ]
     },
     "execution_count": 151,
     "metadata": {},
     "output_type": "execute_result"
    }
   ],
   "source": [
    "idf = words.groupby('Word')\\\n",
    "    .Document\\\n",
    "    .nunique()\\\n",
    "    .to_frame()\\\n",
    "    .rename(columns={'Document':'i_d'})\\\n",
    "    .sort_values('i_d')\n",
    "idf.head()"
   ]
  },
  {
   "cell_type": "code",
   "execution_count": 152,
   "metadata": {},
   "outputs": [
    {
     "data": {
      "text/html": [
       "<div>\n",
       "<style scoped>\n",
       "    .dataframe tbody tr th:only-of-type {\n",
       "        vertical-align: middle;\n",
       "    }\n",
       "\n",
       "    .dataframe tbody tr th {\n",
       "        vertical-align: top;\n",
       "    }\n",
       "\n",
       "    .dataframe thead th {\n",
       "        text-align: right;\n",
       "    }\n",
       "</style>\n",
       "<table border=\"1\" class=\"dataframe\">\n",
       "  <thead>\n",
       "    <tr style=\"text-align: right;\">\n",
       "      <th></th>\n",
       "      <th>i_d</th>\n",
       "      <th>idf</th>\n",
       "    </tr>\n",
       "    <tr>\n",
       "      <th>Word</th>\n",
       "      <th></th>\n",
       "      <th></th>\n",
       "    </tr>\n",
       "  </thead>\n",
       "  <tbody>\n",
       "    <tr>\n",
       "      <td></td>\n",
       "      <td>1</td>\n",
       "      <td>9.854455</td>\n",
       "    </tr>\n",
       "    <tr>\n",
       "      <td>messy</td>\n",
       "      <td>1</td>\n",
       "      <td>9.854455</td>\n",
       "    </tr>\n",
       "    <tr>\n",
       "      <td>messidor</td>\n",
       "      <td>1</td>\n",
       "      <td>9.854455</td>\n",
       "    </tr>\n",
       "    <tr>\n",
       "      <td>messel</td>\n",
       "      <td>1</td>\n",
       "      <td>9.854455</td>\n",
       "    </tr>\n",
       "    <tr>\n",
       "      <td>mesmerize</td>\n",
       "      <td>1</td>\n",
       "      <td>9.854455</td>\n",
       "    </tr>\n",
       "  </tbody>\n",
       "</table>\n",
       "</div>"
      ],
      "text/plain": [
       "           i_d       idf\n",
       "Word                    \n",
       "             1  9.854455\n",
       "messy        1  9.854455\n",
       "messidor     1  9.854455\n",
       "messel       1  9.854455\n",
       "mesmerize    1  9.854455"
      ]
     },
     "execution_count": 152,
     "metadata": {},
     "output_type": "execute_result"
    }
   ],
   "source": [
    "idf['idf'] = np.log(c_d/idf.i_d.values)\n",
    "\n",
    "idf.head()"
   ]
  },
  {
   "cell_type": "code",
   "execution_count": 153,
   "metadata": {},
   "outputs": [
    {
     "data": {
      "text/html": [
       "<div>\n",
       "<style scoped>\n",
       "    .dataframe tbody tr th:only-of-type {\n",
       "        vertical-align: middle;\n",
       "    }\n",
       "\n",
       "    .dataframe tbody tr th {\n",
       "        vertical-align: top;\n",
       "    }\n",
       "\n",
       "    .dataframe thead th {\n",
       "        text-align: right;\n",
       "    }\n",
       "</style>\n",
       "<table border=\"1\" class=\"dataframe\">\n",
       "  <thead>\n",
       "    <tr style=\"text-align: right;\">\n",
       "      <th></th>\n",
       "      <th></th>\n",
       "      <th>n_w</th>\n",
       "      <th>n_d</th>\n",
       "      <th>tf</th>\n",
       "      <th>i_d</th>\n",
       "      <th>idf</th>\n",
       "    </tr>\n",
       "    <tr>\n",
       "      <th>Document</th>\n",
       "      <th>Word</th>\n",
       "      <th></th>\n",
       "      <th></th>\n",
       "      <th></th>\n",
       "      <th></th>\n",
       "      <th></th>\n",
       "    </tr>\n",
       "  </thead>\n",
       "  <tbody>\n",
       "    <tr>\n",
       "      <td rowspan=\"5\" valign=\"top\">1</td>\n",
       "      <td>dlrs</td>\n",
       "      <td>14</td>\n",
       "      <td>271</td>\n",
       "      <td>0.051661</td>\n",
       "      <td>7641</td>\n",
       "      <td>0.913171</td>\n",
       "    </tr>\n",
       "    <tr>\n",
       "      <td>new</td>\n",
       "      <td>9</td>\n",
       "      <td>271</td>\n",
       "      <td>0.033210</td>\n",
       "      <td>3790</td>\n",
       "      <td>1.614334</td>\n",
       "    </tr>\n",
       "    <tr>\n",
       "      <td>york</td>\n",
       "      <td>8</td>\n",
       "      <td>271</td>\n",
       "      <td>0.029520</td>\n",
       "      <td>875</td>\n",
       "      <td>3.080231</td>\n",
       "    </tr>\n",
       "    <tr>\n",
       "      <td>sale</td>\n",
       "      <td>7</td>\n",
       "      <td>271</td>\n",
       "      <td>0.025830</td>\n",
       "      <td>2828</td>\n",
       "      <td>1.907130</td>\n",
       "    </tr>\n",
       "    <tr>\n",
       "      <td>time</td>\n",
       "      <td>7</td>\n",
       "      <td>271</td>\n",
       "      <td>0.025830</td>\n",
       "      <td>1627</td>\n",
       "      <td>2.459962</td>\n",
       "    </tr>\n",
       "  </tbody>\n",
       "</table>\n",
       "</div>"
      ],
      "text/plain": [
       "               n_w  n_d        tf   i_d       idf\n",
       "Document Word                                    \n",
       "1        dlrs   14  271  0.051661  7641  0.913171\n",
       "         new     9  271  0.033210  3790  1.614334\n",
       "         york    8  271  0.029520   875  3.080231\n",
       "         sale    7  271  0.025830  2828  1.907130\n",
       "         time    7  271  0.025830  1627  2.459962"
      ]
     },
     "execution_count": 153,
     "metadata": {},
     "output_type": "execute_result"
    }
   ],
   "source": [
    "tf_idf = tf.join(idf)\n",
    "\n",
    "tf_idf.head()"
   ]
  },
  {
   "cell_type": "code",
   "execution_count": 154,
   "metadata": {},
   "outputs": [
    {
     "data": {
      "text/html": [
       "<div>\n",
       "<style scoped>\n",
       "    .dataframe tbody tr th:only-of-type {\n",
       "        vertical-align: middle;\n",
       "    }\n",
       "\n",
       "    .dataframe tbody tr th {\n",
       "        vertical-align: top;\n",
       "    }\n",
       "\n",
       "    .dataframe thead th {\n",
       "        text-align: right;\n",
       "    }\n",
       "</style>\n",
       "<table border=\"1\" class=\"dataframe\">\n",
       "  <thead>\n",
       "    <tr style=\"text-align: right;\">\n",
       "      <th></th>\n",
       "      <th></th>\n",
       "      <th>n_w</th>\n",
       "      <th>n_d</th>\n",
       "      <th>tf</th>\n",
       "      <th>i_d</th>\n",
       "      <th>idf</th>\n",
       "      <th>tf_idf</th>\n",
       "    </tr>\n",
       "    <tr>\n",
       "      <th>Document</th>\n",
       "      <th>Word</th>\n",
       "      <th></th>\n",
       "      <th></th>\n",
       "      <th></th>\n",
       "      <th></th>\n",
       "      <th></th>\n",
       "      <th></th>\n",
       "    </tr>\n",
       "  </thead>\n",
       "  <tbody>\n",
       "    <tr>\n",
       "      <td rowspan=\"5\" valign=\"top\">1</td>\n",
       "      <td>dlrs</td>\n",
       "      <td>14</td>\n",
       "      <td>271</td>\n",
       "      <td>0.051661</td>\n",
       "      <td>7641</td>\n",
       "      <td>0.913171</td>\n",
       "      <td>0.047175</td>\n",
       "    </tr>\n",
       "    <tr>\n",
       "      <td>new</td>\n",
       "      <td>9</td>\n",
       "      <td>271</td>\n",
       "      <td>0.033210</td>\n",
       "      <td>3790</td>\n",
       "      <td>1.614334</td>\n",
       "      <td>0.053613</td>\n",
       "    </tr>\n",
       "    <tr>\n",
       "      <td>york</td>\n",
       "      <td>8</td>\n",
       "      <td>271</td>\n",
       "      <td>0.029520</td>\n",
       "      <td>875</td>\n",
       "      <td>3.080231</td>\n",
       "      <td>0.090929</td>\n",
       "    </tr>\n",
       "    <tr>\n",
       "      <td>sale</td>\n",
       "      <td>7</td>\n",
       "      <td>271</td>\n",
       "      <td>0.025830</td>\n",
       "      <td>2828</td>\n",
       "      <td>1.907130</td>\n",
       "      <td>0.049262</td>\n",
       "    </tr>\n",
       "    <tr>\n",
       "      <td>time</td>\n",
       "      <td>7</td>\n",
       "      <td>271</td>\n",
       "      <td>0.025830</td>\n",
       "      <td>1627</td>\n",
       "      <td>2.459962</td>\n",
       "      <td>0.063541</td>\n",
       "    </tr>\n",
       "  </tbody>\n",
       "</table>\n",
       "</div>"
      ],
      "text/plain": [
       "               n_w  n_d        tf   i_d       idf    tf_idf\n",
       "Document Word                                              \n",
       "1        dlrs   14  271  0.051661  7641  0.913171  0.047175\n",
       "         new     9  271  0.033210  3790  1.614334  0.053613\n",
       "         york    8  271  0.029520   875  3.080231  0.090929\n",
       "         sale    7  271  0.025830  2828  1.907130  0.049262\n",
       "         time    7  271  0.025830  1627  2.459962  0.063541"
      ]
     },
     "execution_count": 154,
     "metadata": {},
     "output_type": "execute_result"
    }
   ],
   "source": [
    "tf_idf['tf_idf'] = tf_idf.tf * tf_idf.idf\n",
    "tf_idf.head()"
   ]
  },
  {
   "cell_type": "code",
   "execution_count": 155,
   "metadata": {},
   "outputs": [],
   "source": [
    "def pretty_plot_top_n(series, top_n=5, index_level=0):\n",
    "    r = series\\\n",
    "    .groupby(level=index_level)\\\n",
    "    .nlargest(top_n)\\\n",
    "    .reset_index(level=index_level, drop=True)\n",
    "    r.plot.bar()\n",
    "    return r.to_frame()"
   ]
  },
  {
   "cell_type": "code",
   "execution_count": null,
   "metadata": {},
   "outputs": [],
   "source": [
    "pretty_plot_top_n(tf_idf['tf_idf'])"
   ]
  },
  {
   "cell_type": "code",
   "execution_count": null,
   "metadata": {},
   "outputs": [],
   "source": []
  }
 ],
 "metadata": {
  "kernelspec": {
   "display_name": "Python 3",
   "language": "python",
   "name": "python3"
  },
  "language_info": {
   "codemirror_mode": {
    "name": "ipython",
    "version": 3
   },
   "file_extension": ".py",
   "mimetype": "text/x-python",
   "name": "python",
   "nbconvert_exporter": "python",
   "pygments_lexer": "ipython3",
   "version": "3.7.4"
  }
 },
 "nbformat": 4,
 "nbformat_minor": 4
}
